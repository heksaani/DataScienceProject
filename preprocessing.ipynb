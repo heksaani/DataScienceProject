{
 "cells": [
  {
   "cell_type": "markdown",
   "metadata": {},
   "source": [
    "# Introduction to Data Science 2023\n",
    "# PROJECT WORK\n"
   ]
  },
  {
   "cell_type": "markdown",
   "metadata": {},
   "source": [
    "# DATA PROCESSING AND VISUALIZATION"
   ]
  },
  {
   "cell_type": "code",
   "execution_count": 4,
   "metadata": {},
   "outputs": [
    {
     "name": "stdout",
     "output_type": "stream",
     "text": [
      "  unique_id  record_id redcap_repeat_instrument  redcap_repeat_instance  \\\n",
      "0      218L        218                  covid19                     1.0   \n",
      "1      341L        341                  covid19                     1.0   \n",
      "2      612L        612                  covid19                     1.0   \n",
      "3      855L        855                  covid19                     1.0   \n",
      "4      954L        954                  covid19                     1.0   \n",
      "\n",
      "   redcap_survey_identifier    covid19_timestamp  sub_id          todays_date  \\\n",
      "0                       NaN  2020-03-23 20:18:18       1  2020-03-23 16:11:36   \n",
      "1                       NaN  2020-03-24 14:43:18       1  2020-03-24 10:38:09   \n",
      "2                       NaN  2020-03-25 21:38:12       1  2020-03-25 17:33:05   \n",
      "3                       NaN  2020-03-27 00:23:38       1  2020-03-26 20:18:40   \n",
      "4                       NaN  2020-03-27 13:20:28       1  2020-03-27 09:16:29   \n",
      "\n",
      "  sleepdiary_bedtime sleepdiary_fallasleep  ...  sleepattempt  TST_12  \\\n",
      "0              22:30                 23:00  ...          5.50       0   \n",
      "1              23:00                 23:15  ...          7.75       0   \n",
      "2              22:30                 22:30  ...          6.00       0   \n",
      "3              22:30                 23:00  ...          7.75       0   \n",
      "4              23:30                 23:30  ...          6.25       0   \n",
      "\n",
      "        TST        SE PANAS_PA  PANAS_NA  worry_scale  PHQ9  exercise  \\\n",
      "0  5.133333  0.843836     14.0      10.0         22.0   5.0         1   \n",
      "1  7.533333  0.941667     13.0      10.0         17.0   8.0         1   \n",
      "2  5.600000  0.933333     10.0      10.0         25.0   7.0         1   \n",
      "3  7.200000  0.847059     13.0      12.0         15.0   6.0         1   \n",
      "4  6.083333  0.960526     13.0      10.0         22.0   7.0         1   \n",
      "\n",
      "   fever_temp_C  \n",
      "0           NaN  \n",
      "1           NaN  \n",
      "2           NaN  \n",
      "3           NaN  \n",
      "4           NaN  \n",
      "\n",
      "[5 rows x 100 columns]\n"
     ]
    }
   ],
   "source": [
    "import pandas as pd\n",
    "import numpy as np\n",
    "import matplotlib.pyplot as plt\n",
    "import seaborn as sns\n",
    "\n",
    "# read csv file to dataframe\n",
    "df = pd.read_csv('')\n",
    "# print column names\n",
    "#print(df.columns)\n",
    "\n",
    "# print first 5 rows\n",
    "print(df.head())"
   ]
  }
 ],
 "metadata": {
  "kernelspec": {
   "display_name": "Python 3 (ipykernel)",
   "language": "python",
   "name": "python3"
  },
  "language_info": {
   "codemirror_mode": {
    "name": "ipython",
    "version": 3
   },
   "file_extension": ".py",
   "mimetype": "text/x-python",
   "name": "python",
   "nbconvert_exporter": "python",
   "pygments_lexer": "ipython3",
   "version": "3.11.5"
  }
 },
 "nbformat": 4,
 "nbformat_minor": 4
}
