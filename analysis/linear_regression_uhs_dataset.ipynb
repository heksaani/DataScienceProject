{
 "cells": [
  {
   "cell_type": "markdown",
   "metadata": {},
   "source": [
    "# UHS Linear Regression"
   ]
  },
  {
   "cell_type": "markdown",
   "metadata": {},
   "source": [
    "Let's fit a linear model to the data from the University Health Survey. We will use a 1D model to predict restfulness (quality of sleep) from food healthiness."
   ]
  },
  {
   "cell_type": "code",
   "execution_count": 13,
   "metadata": {},
   "outputs": [],
   "source": [
    "from sklearn.linear_model import LinearRegression\n",
    "from sklearn.model_selection import train_test_split\n",
    "import numpy as np\n",
    "import pandas as pd\n",
    "import pickle\n",
    "\n",
    "# Choose which variables to include in each analysis\n",
    "input_variables = [\"Food Healthiness\"]\n",
    "\n",
    "# Load preprocessed data\n",
    "filename = '../data/data_combined_final.csv'\n",
    "df = pd.read_csv(filename)\n",
    "df_food = df[[\"Food Healthiness\", \"Restfulness\"]]\n",
    "# Drop rows with NaNs\n",
    "df_food = df_food.dropna()\n",
    "\n",
    "# Next fit the model\n",
    "# Choose input and output data\n",
    "x = df_food.drop([\"Restfulness\"], axis = 1)\n",
    "y = df_food.drop([\"Food Healthiness\"], axis = 1)\n",
    "\n",
    "# Split the data into train and test sets\n",
    "test_size = 0.1\n",
    "x_train, x_test, y_train, y_test = train_test_split(x, y, test_size = test_size)\n",
    "# Fit the model with train data\n",
    "model_rest = LinearRegression().fit(x_train, y_train)\n",
    "# Make predictions with test data\n",
    "pred_rest = model_rest.predict(x_test)"
   ]
  },
  {
   "cell_type": "markdown",
   "metadata": {},
   "source": [
    "Use RMS to measure the accuracy of the model."
   ]
  },
  {
   "cell_type": "code",
   "execution_count": 14,
   "metadata": {},
   "outputs": [
    {
     "name": "stdout",
     "output_type": "stream",
     "text": [
      "Restfulness model RMS deviation: 0.5097614985251798\n",
      "Restfulness model R^2: 1.6019262150113178e-05\n"
     ]
    }
   ],
   "source": [
    "def avg_root_mean_square(true, pred):\n",
    "    true = np.array(true)\n",
    "    pred = np.array(pred)\n",
    "    assert len(true) == len(pred)\n",
    "    n = len(true)\n",
    "    rms = 0\n",
    "    for i in range(n):\n",
    "        rms += np.sqrt((true[i] - pred[i])**2)\n",
    "    return rms / n\n",
    "\n",
    "rms_deviation_rest = avg_root_mean_square(y_test, pred_rest)\n",
    "print(\"Restfulness model RMS deviation:\", rms_deviation_rest[0])\n",
    "# Coefficienct of determination for the model\n",
    "print(\"Restfulness model R^2:\", model_rest.score(x_train, y_train))"
   ]
  },
  {
   "cell_type": "markdown",
   "metadata": {},
   "source": [
    "Save with pickle."
   ]
  },
  {
   "cell_type": "code",
   "execution_count": 15,
   "metadata": {},
   "outputs": [],
   "source": [
    "with open('../data/models/uhs_model_rest.pkl', 'wb') as f:\n",
    "    pickle.dump(model_rest, f)"
   ]
  }
 ],
 "metadata": {
  "kernelspec": {
   "display_name": "base",
   "language": "python",
   "name": "python3"
  },
  "language_info": {
   "codemirror_mode": {
    "name": "ipython",
    "version": 3
   },
   "file_extension": ".py",
   "mimetype": "text/x-python",
   "name": "python",
   "nbconvert_exporter": "python",
   "pygments_lexer": "ipython3",
   "version": "3.10.9"
  }
 },
 "nbformat": 4,
 "nbformat_minor": 2
}
