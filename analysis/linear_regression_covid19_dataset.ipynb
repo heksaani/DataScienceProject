{
 "cells": [
  {
   "cell_type": "markdown",
   "metadata": {},
   "source": [
    "# COVID-19 Survey Linear Regression"
   ]
  },
  {
   "cell_type": "markdown",
   "metadata": {},
   "source": [
    "Let's fit a multidimensional linear model to the Covid-19 survey data. We can add as many input variables as we want. Here we choose the step count and stress level as inputs and sleep latency as the output. After fitting, we can predict sleep latency for any step count and stress level combination."
   ]
  },
  {
   "cell_type": "code",
   "execution_count": 2,
   "metadata": {},
   "outputs": [],
   "source": [
    "from sklearn.linear_model import LinearRegression\n",
    "import numpy as np\n",
    "import pandas as pd\n",
    "import pickle\n",
    "\n",
    "# Choose which variables to include in each analysis\n",
    "input_variables = ['Steps', 'Stress', 'Exercise']\n",
    "\n",
    "# Model dimensionality\n",
    "n = len(input_variables)\n",
    "\n",
    "# Load preprocessed data\n",
    "filename = './data/covid_data_preprocessed.csv'\n",
    "df = pd.read_csv(filename)\n",
    "df_latency = df[input_variables + ['Latency']]\n",
    "df_sleeptime = df[input_variables + ['Sleeptime (h)']]\n",
    "df_wakes = df[input_variables + ['Wakes']]\n",
    "\n",
    "# Fit the models\n",
    "x = df_latency.drop('Latency', axis = 1)\n",
    "y = df_latency['Latency']\n",
    "model_latency = LinearRegression().fit(x, y)\n",
    "\n",
    "x = df_sleeptime.drop('Sleeptime (h)', axis = 1)\n",
    "y = df_sleeptime['Sleeptime (h)']\n",
    "model_sleeptime = LinearRegression().fit(x, y)\n",
    "\n",
    "x = df_wakes.drop('Wakes', axis = 1)\n",
    "y = df_wakes['Wakes']\n",
    "model_wakes = LinearRegression().fit(x, y)\n",
    "\n",
    "# Define a function to make easy predictions\n",
    "def predict(x, model, n = 1):\n",
    "    x_tmp = np.array(x).reshape(-1, n)\n",
    "    y_pred = model.predict(x_tmp)[0]\n",
    "    # Enforce that the result is positive\n",
    "    if y_pred >=0:\n",
    "        return y_pred\n",
    "    else:\n",
    "        return 0"
   ]
  },
  {
   "cell_type": "markdown",
   "metadata": {},
   "source": [
    "Make some predictions to test the models."
   ]
  },
  {
   "cell_type": "code",
   "execution_count": 4,
   "metadata": {},
   "outputs": [
    {
     "name": "stdout",
     "output_type": "stream",
     "text": [
      "Predicted sleep time in hours:  7.92\n",
      "Predicted sleep latency in minutes:  21.39\n",
      "Predicted number of wakes:  1\n"
     ]
    },
    {
     "name": "stderr",
     "output_type": "stream",
     "text": [
      "/home/tlinnala/anaconda3/lib/python3.10/site-packages/sklearn/base.py:420: UserWarning: X does not have valid feature names, but LinearRegression was fitted with feature names\n",
      "  warnings.warn(\n",
      "/home/tlinnala/anaconda3/lib/python3.10/site-packages/sklearn/base.py:420: UserWarning: X does not have valid feature names, but LinearRegression was fitted with feature names\n",
      "  warnings.warn(\n",
      "/home/tlinnala/anaconda3/lib/python3.10/site-packages/sklearn/base.py:420: UserWarning: X does not have valid feature names, but LinearRegression was fitted with feature names\n",
      "  warnings.warn(\n"
     ]
    }
   ],
   "source": [
    "# Predict sleep time and quality from steps and stress\n",
    "steps = 2000\n",
    "stress_level = 3\n",
    "exercise = 1\n",
    "\n",
    "x = [steps, stress_level, exercise]\n",
    "pred_latency = predict(x, model_latency, n)\n",
    "pred_sleeptime = predict(x, model_sleeptime, n)\n",
    "pred_wakes = predict(x, model_wakes, n)\n",
    "\n",
    "print('Predicted sleep time in hours: ', round(pred_sleeptime, 2))\n",
    "print('Predicted sleep latency in minutes: ', round(pred_latency, 2))\n",
    "print('Predicted number of wakes: ', int(round(pred_wakes, 0)))"
   ]
  },
  {
   "cell_type": "markdown",
   "metadata": {},
   "source": [
    "Save models with pickle."
   ]
  },
  {
   "cell_type": "code",
   "execution_count": null,
   "metadata": {},
   "outputs": [],
   "source": [
    "with open('./models/model_latency.pkl', 'wb') as f:\n",
    "    pickle.dump(model_latency, f)\n",
    "\n",
    "with open('./models/model_sleeptime.pkl', 'wb') as f:\n",
    "    pickle.dump(model_sleeptime, f)\n",
    "\n",
    "with open('./models/model_wakes.pkl', 'wb') as f:\n",
    "    pickle.dump(model_wakes, f)"
   ]
  }
 ],
 "metadata": {
  "kernelspec": {
   "display_name": "base",
   "language": "python",
   "name": "python3"
  },
  "language_info": {
   "codemirror_mode": {
    "name": "ipython",
    "version": 3
   },
   "file_extension": ".py",
   "mimetype": "text/x-python",
   "name": "python",
   "nbconvert_exporter": "python",
   "pygments_lexer": "ipython3",
   "version": "3.10.9"
  },
  "orig_nbformat": 4
 },
 "nbformat": 4,
 "nbformat_minor": 2
}
