{
 "cells": [
  {
   "cell_type": "markdown",
   "metadata": {},
   "source": [
    "# COVID-19 Survey Linear Regression"
   ]
  },
  {
   "cell_type": "markdown",
   "metadata": {},
   "source": [
    "Let's fit a multidimensional linear model to the Covid-19 survey data. We can add as many input variables as we want. Here we choose the step count and stress level as inputs and sleep latency as the output. After fitting, we can predict sleep latency for any step count and stress level combination."
   ]
  },
  {
   "cell_type": "code",
   "execution_count": 115,
   "metadata": {},
   "outputs": [],
   "source": [
    "from sklearn.linear_model import LinearRegression\n",
    "from sklearn.model_selection import train_test_split\n",
    "import numpy as np\n",
    "import pandas as pd\n",
    "import pickle\n",
    "\n",
    "# Choose which variables to include in each analysis\n",
    "input_variables = ['Steps', 'Stress']\n",
    "\n",
    "# Model dimensionality\n",
    "n = len(input_variables)\n",
    "\n",
    "# Load preprocessed data\n",
    "filename = '../data/covid_data_preprocessed.csv'\n",
    "df = pd.read_csv(filename)\n",
    "df_latency = df[input_variables + ['Latency']]\n",
    "df_sleeptime = df[input_variables + ['Sleeptime (h)']]\n",
    "df_wakes = df[input_variables + ['Wakes']]\n",
    "\n",
    "# Next fit the model to predict latency\n",
    "# Choose input and output data\n",
    "x1 = df_latency.drop('Latency', axis = 1)\n",
    "y1 = df_latency['Latency']\n",
    "# Split the data into train and test sets\n",
    "test_size = 0.1 # For all splits\n",
    "x1_train, x1_test, y1_train, y1_test = train_test_split(x1, y1, test_size = test_size)\n",
    "# Fit the model with train data\n",
    "model_latency = LinearRegression().fit(x1_train, y1_train)\n",
    "# Make predictions with test data\n",
    "pred_latency = model_latency.predict(x1_test)"
   ]
  },
  {
   "cell_type": "markdown",
   "metadata": {},
   "source": [
    "We need to measure the accuracy of the model. Let's use the average root-mean-square deviation, which tells us how much the prediction deviates from the true value on average over the entire test set."
   ]
  },
  {
   "cell_type": "code",
   "execution_count": 116,
   "metadata": {},
   "outputs": [
    {
     "name": "stdout",
     "output_type": "stream",
     "text": [
      "Latency model RMS deviation (mins): 9.300615469331843\n",
      "Latency model R^2: 0.09262626578260291\n"
     ]
    }
   ],
   "source": [
    "def avg_root_mean_square(true, pred):\n",
    "    true = np.array(true)\n",
    "    pred = np.array(pred)\n",
    "    assert len(true) == len(pred)\n",
    "    n = len(true)\n",
    "    rms = 0\n",
    "    for i in range(n):\n",
    "        rms += np.sqrt((true[i] - pred[i])**2)\n",
    "    return rms / n\n",
    "\n",
    "rms_deviation_latency = avg_root_mean_square(y1_test, pred_latency)\n",
    "print(\"Latency model RMS deviation (mins):\", rms_deviation_latency)\n",
    "# Coefficienct of determination for the model\n",
    "print(\"Latency model R^2:\", model_latency.score(x1_train, y1_train))"
   ]
  },
  {
   "cell_type": "markdown",
   "metadata": {},
   "source": [
    "Fit similar models for sleeptime and wakes."
   ]
  },
  {
   "cell_type": "code",
   "execution_count": 117,
   "metadata": {},
   "outputs": [
    {
     "name": "stdout",
     "output_type": "stream",
     "text": [
      "Sleeptime model RMS deviation (hrs): 0.7394676009833971\n",
      "Sleeptime model R^2: 0.0055423306690909335\n",
      "Wakes model RMS deviation (# of wakes): 0.8388761653119496\n",
      "Wakes model R^2: 0.03779460983166982\n"
     ]
    }
   ],
   "source": [
    "# Same for the sleeptime model\n",
    "x2 = df_sleeptime.drop('Sleeptime (h)', axis = 1)\n",
    "y2 = df_sleeptime['Sleeptime (h)']\n",
    "x2_train, x2_test, y2_train, y2_test = train_test_split(x2, y2, test_size = test_size)\n",
    "model_sleeptime = LinearRegression().fit(x2_train, y2_train)\n",
    "pred_sleeptime = model_sleeptime.predict(x2_test)\n",
    "rms_deviation_sleeptime = avg_root_mean_square(y2_test, pred_sleeptime)\n",
    "print(\"Sleeptime model RMS deviation (hrs):\", rms_deviation_sleeptime)\n",
    "print(\"Sleeptime model R^2:\", model_sleeptime.score(x2_train, y2_train))\n",
    "\n",
    "# Same for the wakes model\n",
    "x3 = df_wakes.drop('Wakes', axis = 1)\n",
    "y3 = df_wakes['Wakes']\n",
    "x3_train, x3_test, y3_train, y3_test = train_test_split(x3, y3, test_size = test_size)\n",
    "model_wakes = LinearRegression().fit(x3_train, y3_train)\n",
    "pred_wakes = model_wakes.predict(x3_test)\n",
    "rms_deviation_wakes = avg_root_mean_square(y3_test, pred_wakes)\n",
    "print(\"Wakes model RMS deviation (# of wakes):\", rms_deviation_wakes)\n",
    "print(\"Wakes model R^2:\", model_wakes.score(x3_train, y3_train))"
   ]
  },
  {
   "cell_type": "markdown",
   "metadata": {},
   "source": [
    "Make some predictions to test the use of the models."
   ]
  },
  {
   "cell_type": "code",
   "execution_count": 118,
   "metadata": {},
   "outputs": [
    {
     "name": "stdout",
     "output_type": "stream",
     "text": [
      "Predicted sleep time in hours:  7.71\n",
      "Predicted sleep latency in minutes:  23.35\n",
      "Predicted number of wakes:  1\n"
     ]
    },
    {
     "name": "stderr",
     "output_type": "stream",
     "text": [
      "/home/tlinnala/anaconda3/lib/python3.10/site-packages/sklearn/base.py:420: UserWarning: X does not have valid feature names, but LinearRegression was fitted with feature names\n",
      "  warnings.warn(\n",
      "/home/tlinnala/anaconda3/lib/python3.10/site-packages/sklearn/base.py:420: UserWarning: X does not have valid feature names, but LinearRegression was fitted with feature names\n",
      "  warnings.warn(\n",
      "/home/tlinnala/anaconda3/lib/python3.10/site-packages/sklearn/base.py:420: UserWarning: X does not have valid feature names, but LinearRegression was fitted with feature names\n",
      "  warnings.warn(\n"
     ]
    }
   ],
   "source": [
    "# Define a function to make easy predictions\n",
    "def predict(x, model, n = 1):\n",
    "    x_tmp = np.array(x).reshape(-1, n)\n",
    "    y_pred = model.predict(x_tmp)[0]\n",
    "    # Enforce that the result is positive\n",
    "    if y_pred >=0:\n",
    "        return y_pred\n",
    "    else:\n",
    "        return 0\n",
    "\n",
    "# Predict sleep time and quality from steps and stress\n",
    "steps = 2000\n",
    "stress_level = 3\n",
    "\n",
    "x = [steps, stress_level]\n",
    "pred_latency = predict(x, model_latency, n)\n",
    "pred_sleeptime = predict(x, model_sleeptime, n)\n",
    "pred_wakes = predict(x, model_wakes, n)\n",
    "\n",
    "print('Predicted sleep time in hours: ', round(pred_sleeptime, 2))\n",
    "print('Predicted sleep latency in minutes: ', round(pred_latency, 2))\n",
    "print('Predicted number of wakes: ', int(round(pred_wakes, 0)))"
   ]
  },
  {
   "cell_type": "markdown",
   "metadata": {},
   "source": [
    "Save models with pickle."
   ]
  },
  {
   "cell_type": "code",
   "execution_count": 119,
   "metadata": {},
   "outputs": [],
   "source": [
    "with open('../data/models/covid_model_latency.pkl', 'wb') as f:\n",
    "    pickle.dump(model_latency, f)\n",
    "\n",
    "with open('../data/models/covid_model_sleeptime.pkl', 'wb') as f:\n",
    "    pickle.dump(model_sleeptime, f)\n",
    "\n",
    "with open('../data/models/covid_model_wakes.pkl', 'wb') as f:\n",
    "    pickle.dump(model_wakes, f)"
   ]
  }
 ],
 "metadata": {
  "kernelspec": {
   "display_name": "base",
   "language": "python",
   "name": "python3"
  },
  "language_info": {
   "codemirror_mode": {
    "name": "ipython",
    "version": 3
   },
   "file_extension": ".py",
   "mimetype": "text/x-python",
   "name": "python",
   "nbconvert_exporter": "python",
   "pygments_lexer": "ipython3",
   "version": "3.10.9"
  },
  "orig_nbformat": 4
 },
 "nbformat": 4,
 "nbformat_minor": 2
}
