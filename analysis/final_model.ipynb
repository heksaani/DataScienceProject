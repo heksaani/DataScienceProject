{
 "cells": [
  {
   "cell_type": "markdown",
   "metadata": {},
   "source": [
    "## Final model "
   ]
  },
  {
   "cell_type": "code",
   "execution_count": 12,
   "metadata": {},
   "outputs": [],
   "source": [
    "# import libraries\n",
    "import pandas as pd\n",
    "import numpy as np\n",
    "import matplotlib.pyplot as plt\n",
    "import seaborn as sns\n",
    "from sklearn.ensemble import RandomForestClassifier\n",
    "from sklearn.feature_selection import SelectFromModel\n",
    "from sklearn.model_selection import train_test_split\n",
    "from sklearn.preprocessing import StandardScaler, OneHotEncoder\n",
    "from sklearn.compose import ColumnTransformer\n",
    "from sklearn.metrics import confusion_matrix\n",
    "\n",
    "from sklearn import metrics\n",
    "\n",
    "# read the data\n",
    "df = pd.read_csv('../data/data_combined_final.csv')\n",
    "\n",
    "# drop the first column (index)\n",
    "df.drop(df.columns[0], axis=1, inplace=True)\n",
    "\n",
    "# drop the country column\n",
    "df.drop('country', axis=1, inplace=True)"
   ]
  },
  {
   "cell_type": "code",
   "execution_count": 14,
   "metadata": {},
   "outputs": [
    {
     "data": {
      "text/plain": [
       "Index(['Steps', 'Socialize (min)', 'Leave house', 'People contact',\n",
       "       'Alcohol (bev)', 'Exercise', 'Stress', 'Worry (scale)',\n",
       "       'Worry (finances)', 'Worry (health)', 'PHQ9', 'PANAS (NA)',\n",
       "       'PANAS (PA)', 'Isolation', 'Latency', 'Wakes', 'Sleeptime (h)',\n",
       "       'student', 'Age Group', 'Restfulness', 'Wakes (scale)', 'Nervousness',\n",
       "       'Depression', 'Anxiety', 'Insomnia', 'Exercise (scale)',\n",
       "       'Food Healthiness', 'Alcohol'],\n",
       "      dtype='object')"
      ]
     },
     "execution_count": 14,
     "metadata": {},
     "output_type": "execute_result"
    }
   ],
   "source": [
    "df.columns"
   ]
  },
  {
   "cell_type": "code",
   "execution_count": 18,
   "metadata": {},
   "outputs": [
    {
     "data": {
      "text/plain": [
       "0       4.000000\n",
       "1       4.400000\n",
       "2       5.100000\n",
       "3       3.058824\n",
       "4       3.485714\n",
       "          ...   \n",
       "2143         NaN\n",
       "2144         NaN\n",
       "2145         NaN\n",
       "2146         NaN\n",
       "2147         NaN\n",
       "Name: Worry (scale), Length: 2148, dtype: float64"
      ]
     },
     "execution_count": 18,
     "metadata": {},
     "output_type": "execute_result"
    }
   ],
   "source": [
    "df['Worry (scale)']"
   ]
  },
  {
   "cell_type": "markdown",
   "metadata": {},
   "source": [
    "Steps = Number of steps taken in the day on average <br>\n",
    "Socialize (min) = Number of minutes spent socializing on average  <br>\n",
    "Leave house = Categorical value of whether the person left the house or not 1: Yes, 0: No  <br>\n",
    "People contact = Number of people the person had contact with on average in a day  <br>\n",
    "Alcohol (bev) = Number of alcoholic beverages consumed on average in a day  <br>\n",
    "Exercise = Categorical value of whether the person exercised or not 1: Yes, 0: No  <br>\n",
    "Stress = Categorical value of stress from 1 to 7 with increasing stress  <br>\n",
    "\n",
    "## these can me excluded since these are covid related <br>\n",
    "Worry (scale) = Categorical value of worry from 1 to 7 with increasing worry  <br>\n",
    "Worry (finances) = Categorical value of worry about finances from 1 to 7 with increasing worry  <br>\n",
    "       Q: How worried are you about the personal financial \n",
    "Worry (health) = Categorical value of worry about health from 1 to 7 with increasing worry  <br>\n",
    "\n",
    "#check these: <br>\n",
    "PHQ9 = Categorical value of depression from 1 to 7 with increasing depression <br>\n",
    "PANAS (NA) = Categorical value of negative affect from 1 to 7 with increasing negative affect <br>\n",
    "PANAS (PA) = Categorical value of positive affect from 1 to 7 with increasing positive affect <br>\n",
    "Isolation = Categorical value of isolation (how isolated the person felt) from 1 to 7 with increasing isolation <br>\n",
    "Latency = Minutes it took to fall asleep on average<br>\n",
    "Wakes = Categorical from 0 to 5 5 is more than 5 times<br>\n",
    "Sleeptime (h) = Hours of sleep on average <br>\n",
    "student = Categorical value of whether the person is a student or not 1: Yes, 0: No <br>\n",
    "Age Group = Categorical value of age group <br>\n",
    "       1: under 22 <br>\n",
    "       2: 22-24 <br>\n",
    "       3: 25-29 <br>\n",
    "       4: 30-34 <br>\n",
    "Restfulness = Categorical value of restfulness from 1 to 4: <br>\n",
    "       Q : Do you feel you sleep enough? <br>\n",
    "       1: Yes, nearly always <br>\n",
    "       2: yes, often<br>\n",
    "       3: Seldom or hardly ever<br>\n",
    "       4: Can't say <br>\n",
    "Wakes (scale) = Categorical value of how often the person has woken up or had difficulty to fall asleep <br>\n",
    "       Q: Have you experienced any the following during the past month: Waking up during the night or difficulty in falling asleep? <br>\n",
    "       0: No <br>\n",
    "       1:Occationally <br>\n",
    "       2: Weekly <br>\n",
    "       3: Daily or almost daily<br>\n",
    "\n",
    "\n",
    "Nervousness = Categorical value of nervousness from 0 to 3 with increasing nervousness <br>\n",
    "       Q : Have you experienced any the following during the past month: Nervous tension/nervousness <br>\n",
    "       0 : No <br>\n",
    "       1 : Occationally <br>\n",
    "       2 : Weekly <br>\n",
    "       3 : Daily or almost daily <br>\n",
    "\n",
    "Depression = Categorical value of depression from 0 to 3 with increasing depression <br>\n",
    "       Q: Have you experienced any the following during the past month: Depression or feeling low\n",
    "       0: No\n",
    "       1: Occationally\n",
    "       2: Weekly\n",
    "       3: Daily or almost daily\n",
    "\n",
    "Anxiety = Categorical value of anxiety from 0 to 3 with increasing anxiety <br>\n",
    "       Q: Have you experienced any the following during the past month: Anxiety <br>\n",
    "       0: No <br>\n",
    "       1: Occationally <br>\n",
    "       2: Weekly <br>\n",
    "       3: Daily or almost daily <br>\n",
    "\n",
    "Insomnia = Categorical value of insomnia from 1 to 4 with increasing insomnia <br>\n",
    "       Q: Have you recently lost sleep over worry? <br>\n",
    "       1: No, not at all <br>\n",
    "       2: No more than usual<br>\n",
    "       3: Rather more than usual<br>\n",
    "       4: Much more than usual<br>\n",
    "\n",
    "Exercise (scale) = Categorical value of exercise from 0 to 5 with increasing exercise <br>\n",
    "       Q: How often do you take more vigorous physical exercise at the minimum for 30 minutes at a time and becoming at least a bit out of breath and sweaty (e.g. jogging/fast walking, cycling, swimming, gymnastics, ball games)? <br>\n",
    "       0: Not at all or very seldom <br>\n",
    "       1: 1 - 3 times a month <br>\n",
    "       2: Roughly once a week<br>\n",
    "       3: 2 - 3 times a week<br>\n",
    "       4: 4 - 6 times a week<br>\n",
    "       5: Daily<br>\n",
    "\t\n",
    "Food Healthiness = Categorical value of food healthiness from 0 to 2 with increasing food healthiness <br>\n",
    "       Q: When buying/acquiring food, do you take health factors into account? <br>\n",
    "       0: Never or very seldom <br>\n",
    "       1: Occationally <br>\n",
    "       2: Often <br>\n",
    "\n",
    "\n",
    "\n",
    "\n",
    "Alcohol = Categorical value of alcohol consumption from 0 to 5  with increasing alcohol consumption <br>\n",
    "       Q: How often do you drink alcohol?<br>\n",
    "       0: Never <br>\n",
    "       1: Montly or less often<br>\n",
    "       2: 2 - 3 times a month<br>\n",
    "       3: Once a week<br>\n",
    "       4: 2-3 times a week<br>\n",
    "       5: Four times a week or more often <br>\n",
    "\n",
    "\n"
   ]
  },
  {
   "cell_type": "code",
   "execution_count": null,
   "metadata": {},
   "outputs": [],
   "source": [
    "# the outcome is a categorical variable\n",
    "# we will use the logistic regression model\n",
    "\n",
    "# libraries have been imported in the previous cell\n",
    "# the split has been done in the previous cell\n",
    "# the data has been imported in the previous cell\n",
    "# creating the logistic regression model\n",
    "from sklearn.linear_model import LogisticRegression\n",
    "classifier = LogisticRegression()\n",
    "classifier.fit(X_train, y_train)\n",
    "\n",
    "# predicting the test set results\n",
    "y_pred = classifier.predict(X_test)\n",
    "\n",
    "# evaluating the model\n",
    "from sklearn.metrics import confusion_matrix\n",
    "cm = confusion_matrix(y_test, y_pred)\n",
    "print(cm)\n",
    "print('Accuracy:', metrics.accuracy_score(y_test, y_pred))\n",
    "\n"
   ]
  }
 ],
 "metadata": {
  "kernelspec": {
   "display_name": "Python 3",
   "language": "python",
   "name": "python3"
  },
  "language_info": {
   "codemirror_mode": {
    "name": "ipython",
    "version": 3
   },
   "file_extension": ".py",
   "mimetype": "text/x-python",
   "name": "python",
   "nbconvert_exporter": "python",
   "pygments_lexer": "ipython3",
   "version": "3.11.5"
  },
  "orig_nbformat": 4
 },
 "nbformat": 4,
 "nbformat_minor": 2
}
