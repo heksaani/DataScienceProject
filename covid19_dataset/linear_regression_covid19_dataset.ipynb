{
 "cells": [
  {
   "cell_type": "markdown",
   "metadata": {},
   "source": [
    "# COVID-19 Survey Linear Regression"
   ]
  },
  {
   "cell_type": "markdown",
   "metadata": {},
   "source": [
    "Let's fit a multidimensional linear model to the Covid-19 survey data. We can add as many input variables as we want. Here we choose the step count and stress level as inputs and sleep latency as the output. After fitting, we can predict sleep latency for any step count and stress level combination."
   ]
  },
  {
   "cell_type": "code",
   "execution_count": 42,
   "metadata": {},
   "outputs": [
    {
     "name": "stdout",
     "output_type": "stream",
     "text": [
      "Predicted sleep latency in minutes:  13.03\n"
     ]
    },
    {
     "name": "stderr",
     "output_type": "stream",
     "text": [
      "/home/tlinnala/anaconda3/lib/python3.10/site-packages/sklearn/base.py:420: UserWarning: X does not have valid feature names, but LinearRegression was fitted with feature names\n",
      "  warnings.warn(\n"
     ]
    }
   ],
   "source": [
    "from sklearn.linear_model import LinearRegression\n",
    "import numpy as np\n",
    "import pandas as pd\n",
    "\n",
    "# Load preprocessed data\n",
    "filename = 'covid_data_preprocessed.csv'\n",
    "df = pd.read_csv(filename)\n",
    "# Choose which variables to include in the analysis\n",
    "df_tmp = df[['Steps', 'Stress', 'Latency']]\n",
    "\n",
    "# Latency is the output, others are inputs\n",
    "x = df_tmp.drop('Latency', axis = 1)\n",
    "y = df_tmp['Latency']\n",
    "\n",
    "# Fit the model\n",
    "model = LinearRegression().fit(x, y)\n",
    "\n",
    "def predict_latency(x, model):\n",
    "    x_tmp = np.array(x).reshape(-1, 2)\n",
    "    y_pred = model.predict(x_tmp)[0]\n",
    "    # Enforce that latency is always positive\n",
    "    if y_pred >=0:\n",
    "        return y_pred\n",
    "    else:\n",
    "        return 0\n",
    "\n",
    "# Predict latency from steps and stress\n",
    "steps = 7000\n",
    "stress_level = 5\n",
    "x = [steps, stress_level]\n",
    "pred = predict_latency(x, model)\n",
    "print('Predicted sleep latency in minutes: ', round(pred, 2))"
   ]
  }
 ],
 "metadata": {
  "kernelspec": {
   "display_name": "base",
   "language": "python",
   "name": "python3"
  },
  "language_info": {
   "codemirror_mode": {
    "name": "ipython",
    "version": 3
   },
   "file_extension": ".py",
   "mimetype": "text/x-python",
   "name": "python",
   "nbconvert_exporter": "python",
   "pygments_lexer": "ipython3",
   "version": "3.10.9"
  },
  "orig_nbformat": 4
 },
 "nbformat": 4,
 "nbformat_minor": 2
}
