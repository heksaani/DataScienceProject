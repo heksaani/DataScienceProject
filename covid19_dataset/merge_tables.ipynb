{
 "cells": [
  {
   "cell_type": "markdown",
   "metadata": {},
   "source": [
    "Here we combine the preprocessed data from the Covid-19 survey and the University Health Survey."
   ]
  },
  {
   "cell_type": "code",
   "execution_count": 14,
   "metadata": {},
   "outputs": [],
   "source": [
    "import pandas as pd\n",
    "\n",
    "file1 = 'covid_data_preprocessed.csv'\n",
    "file2 = 'uhs_men_preprocessed.csv'\n",
    "file3 = 'uhs_women_preprocessed.csv'\n",
    "\n",
    "df_covid = pd.read_csv(file1)\n",
    "df_uhs_m = pd.read_csv(file2)\n",
    "# Rename columns to that correspond to columns in the Covid-19 dataset\n",
    "df_uhs_m = df_uhs_m.rename(columns = {'unih': 'Sleeptime (h)',\n",
    "                                      'stressi': 'Stress', 'yöherily': 'Wakes'})\n",
    "df_uhs_w = pd.read_csv(file3)\n",
    "df_uhs_w = df_uhs_w.rename(columns = {'unih': 'Sleeptime (h)',\n",
    "                                      'stressi': 'Stress', 'yöherily': 'Wakes'})"
   ]
  },
  {
   "cell_type": "markdown",
   "metadata": {},
   "source": [
    "Combine dataframes and save to .csv file."
   ]
  },
  {
   "cell_type": "code",
   "execution_count": 15,
   "metadata": {},
   "outputs": [],
   "source": [
    "df_comb = pd.concat([df_covid, df_uhs_m, df_uhs_w])\n",
    "\n",
    "filename = 'data_combined.csv'\n",
    "\n",
    "df_comb.to_csv(filename)"
   ]
  }
 ],
 "metadata": {
  "kernelspec": {
   "display_name": "boss_env",
   "language": "python",
   "name": "python3"
  },
  "language_info": {
   "codemirror_mode": {
    "name": "ipython",
    "version": 3
   },
   "file_extension": ".py",
   "mimetype": "text/x-python",
   "name": "python",
   "nbconvert_exporter": "python",
   "pygments_lexer": "ipython3",
   "version": "3.10.9"
  }
 },
 "nbformat": 4,
 "nbformat_minor": 2
}
