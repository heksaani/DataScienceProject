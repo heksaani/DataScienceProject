{
 "cells": [
  {
   "cell_type": "markdown",
   "metadata": {},
   "source": [
    "# HealtNotebook \n",
    "\n"
   ]
  },
  {
   "cell_type": "markdown",
   "metadata": {},
   "source": [
    "Welcome to HeathNotebook! <br> This is a notebook for health data analysis.\n",
    "First we will ask you to enter your name and age and then we will ask more about your current health.\n",
    "Depending on where you are running this notebook, when you run the next cell, you will be prompted to write your name and age."
   ]
  },
  {
   "cell_type": "code",
   "execution_count": 13,
   "metadata": {
    "tags": []
   },
   "outputs": [
    {
     "data": {
      "text/plain": [
       "Index(['id', 'Steps', 'Socialize (min)', 'Leave house', 'People contact',\n",
       "       'Alcohol (bev)', 'Exercise', 'Stress', 'Worry (scale)',\n",
       "       'Worry (finances)', 'Worry (health)', 'PHQ9', 'PANAS (NA)',\n",
       "       'PANAS (PA)', 'Isolation', 'Latency', 'Wakes', 'Sleeptime (h)'],\n",
       "      dtype='object')"
      ]
     },
     "execution_count": 13,
     "metadata": {},
     "output_type": "execute_result"
    }
   ],
   "source": [
    "import ipywidgets as widgets\n",
    "from IPython.display import display\n",
    "import pandas as pd\n",
    "import numpy as np\n",
    "import matplotlib.pyplot as plt\n",
    "\n",
    "import seaborn as sns\n",
    "\n",
    "data = pd.read_csv(\"./covid19_dataset/covid_data_preprocessed.csv\")\n",
    "data.columns\n"
   ]
  },
  {
   "cell_type": "code",
   "execution_count": 9,
   "metadata": {},
   "outputs": [
    {
     "data": {
      "application/vnd.jupyter.widget-view+json": {
       "model_id": "a6eebc6ca456409cbe8a44de8b9c6aaa",
       "version_major": 2,
       "version_minor": 0
      },
      "text/plain": [
       "VBox(children=(Label(value='Name:'), Text(value='', placeholder='Type something')), layout=Layout(align_items=…"
      ]
     },
     "metadata": {},
     "output_type": "display_data"
    },
    {
     "data": {
      "application/vnd.jupyter.widget-view+json": {
       "model_id": "14c150f727564a23ab3d544caff7fa10",
       "version_major": 2,
       "version_minor": 0
      },
      "text/plain": [
       "VBox(children=(Label(value='Age:'), IntText(value=0)), layout=Layout(align_items='stretch'))"
      ]
     },
     "metadata": {},
     "output_type": "display_data"
    },
    {
     "data": {
      "application/vnd.jupyter.widget-view+json": {
       "model_id": "0b49d2cec6f24cdeb9ceca47bc979d1d",
       "version_major": 2,
       "version_minor": 0
      },
      "text/plain": [
       "VBox(children=(Label(value='Hours slept on average:'), FloatText(value=0.0)), layout=Layout(align_items='stret…"
      ]
     },
     "metadata": {},
     "output_type": "display_data"
    },
    {
     "data": {
      "application/vnd.jupyter.widget-view+json": {
       "model_id": "68cab3e04f62466cb0c61bb726f97ccb",
       "version_major": 2,
       "version_minor": 0
      },
      "text/plain": [
       "VBox(children=(Label(value='Do you feel tired:'), Dropdown(options=('1: Yes, almost always', '2: Yes, often', …"
      ]
     },
     "metadata": {},
     "output_type": "display_data"
    },
    {
     "data": {
      "application/vnd.jupyter.widget-view+json": {
       "model_id": "ae268071f88444329b9affd6ccbe31e0",
       "version_major": 2,
       "version_minor": 0
      },
      "text/plain": [
       "VBox(children=(Label(value='Stress, on a scale from 1 to 7:'), Dropdown(options=('1', '2', '3', '4', '5', '6',…"
      ]
     },
     "metadata": {},
     "output_type": "display_data"
    },
    {
     "data": {
      "application/vnd.jupyter.widget-view+json": {
       "model_id": "f3afa8add54a491ca642b143a3bee72b",
       "version_major": 2,
       "version_minor": 0
      },
      "text/plain": [
       "VBox(children=(Label(value='Is exercise part of your daily life:'), Dropdown(options=('Yes', 'No'), value='Yes…"
      ]
     },
     "metadata": {},
     "output_type": "display_data"
    },
    {
     "data": {
      "application/vnd.jupyter.widget-view+json": {
       "model_id": "3af13adc86084ff991519c68d4000154",
       "version_major": 2,
       "version_minor": 0
      },
      "text/plain": [
       "VBox(children=(Label(value='Daily steps:'), IntText(value=0)), layout=Layout(align_items='stretch'))"
      ]
     },
     "metadata": {},
     "output_type": "display_data"
    },
    {
     "data": {
      "application/vnd.jupyter.widget-view+json": {
       "model_id": "a7b72d14a157410e910366adb47af95c",
       "version_major": 2,
       "version_minor": 0
      },
      "text/plain": [
       "VBox(children=(Label(value='Number of alcohol units:'), FloatText(value=0.0)), layout=Layout(align_items='stre…"
      ]
     },
     "metadata": {},
     "output_type": "display_data"
    },
    {
     "data": {
      "application/vnd.jupyter.widget-view+json": {
       "model_id": "0cd4691ad08b4b9ab78f006b92c04a68",
       "version_major": 2,
       "version_minor": 0
      },
      "text/plain": [
       "VBox(children=(Label(value='When buying food, do you consider the healthiness of the food:'), Dropdown(options…"
      ]
     },
     "metadata": {},
     "output_type": "display_data"
    },
    {
     "data": {
      "application/vnd.jupyter.widget-view+json": {
       "model_id": "777ae202ffa146539a1088ffeda8a14a",
       "version_major": 2,
       "version_minor": 0
      },
      "text/plain": [
       "Button(description='Submit', style=ButtonStyle())"
      ]
     },
     "metadata": {},
     "output_type": "display_data"
    }
   ],
   "source": [
    "name_value = \"\"\n",
    "age_value = 0\n",
    "hours_slept_value = 0.0\n",
    "sleep_quality_value = \"\"\n",
    "stress_value = \"\"\n",
    "exercise_value = \"\"\n",
    "daily_steps_value = 0\n",
    "alcohol_consumption_value = 0.0\n",
    "food_value = \"\"\n",
    "\n",
    "\n",
    "\n",
    "def labeled_widget(label, widget):\n",
    "    return widgets.VBox([widgets.Label(label), widget], layout=widgets.Layout(align_items='stretch'))\n",
    "\n",
    "name = widgets.Text(\n",
    "    value='',\n",
    "    placeholder='Type something',\n",
    "    disabled=False)\n",
    "\n",
    "age = widgets.IntText(\n",
    "    value=0, \n",
    "    placeholder='Type something',\n",
    "    disabled=False,\n",
    "    min=0)\n",
    "\n",
    "hours_slept = widgets.FloatText(\n",
    "    value=0.0,\n",
    "    placeholder='Type something',\n",
    "    disabled=False,\n",
    "    min=0.0,)\n",
    "\n",
    "sleep_quality = widgets.Dropdown(\n",
    "    options=[\"1: Yes, almost always\", \"2: Yes, often\", \"3: Rarely, or almost never\"],\n",
    "    value=\"1: Yes, almost always\",\n",
    "    disabled=False)\n",
    "\n",
    "stress = widgets.Dropdown(\n",
    "    options=[\"1\", \"2\", \"3\", \"4\", \"5\", \"6\", \"7\"],\n",
    "    value = \"1\",\n",
    "    placeholder='1',\n",
    "    disabled=False)\n",
    "\n",
    "exercise = widgets.Dropdown(\n",
    "    options=[\"Yes\", \"No\"],\n",
    "    value=\"Yes\",\n",
    "    disabled=False)\n",
    "\n",
    "daily_steps = widgets.IntText(\n",
    "    value=0, \n",
    "    placeholder=0,\n",
    "    disabled=False,\n",
    "    min=0)\n",
    "\n",
    "alcohol_consumption = widgets.FloatText(\n",
    "    value=0.0,\n",
    "    placeholder=0.0,\n",
    "    disabled=False,\n",
    "    min=0.0,)\n",
    "\n",
    "food = widgets.Dropdown(\n",
    "    options=[\"1: Never\" , \"2: Yes, sometimes\", \"3: Often\"],\n",
    "    value=\"1: Never\",\n",
    "    disabled=False)\n",
    "\n",
    "\n",
    "button = widgets.Button(description=\"Submit\")\n",
    "\n",
    "# Define a function to handle button click event\n",
    "def on_button_click(b):\n",
    "    global name_value, age_value, hours_slept_value, sleep_quality_value, \\\n",
    "    stress_value, exercise_value, daily_steps_value, alcohol_consumption_value, food_value\n",
    "\n",
    "    name_value = name.value\n",
    "    age_value = age.value\n",
    "    hours_slept_value = hours_slept.value\n",
    "    sleep_quality_value = int(sleep_quality.value.split(\":\")[0])\n",
    "    stress_value = int(stress.value)\n",
    "    exercise_value = 1 if exercise.value == \"Yes\" else 0\n",
    "    daily_steps_value = daily_steps.value\n",
    "    alcohol_consumption_value = int(alcohol_consumption.value)\n",
    "    food_value = int(food.value.split(\":\")[0])\n",
    "\n",
    "\n",
    "# Set the function to be called on button click\n",
    "button.on_click(on_button_click)\n",
    "\n",
    "# Create labeled widgets\n",
    "name_labeled = labeled_widget('Name:', name)\n",
    "age_labeled = labeled_widget('Age:', age)\n",
    "hours_slept_labeled = labeled_widget('Hours slept on average:', hours_slept)\n",
    "sleep_quality_labeled = labeled_widget('Do you feel tired:', sleep_quality)\n",
    "stress_labeled = labeled_widget('Stress, on a scale from 1 to 7:', stress)  # Changed this line\n",
    "exercise_labeled = labeled_widget('Is exercise part of your daily life:', exercise)  # Changed this line\n",
    "daily_steps_labeled = labeled_widget('Daily steps:', daily_steps)  # Changed this line\n",
    "alcohol_consumption_labeled = labeled_widget('Number of alcohol units:', alcohol_consumption)  # Changed this line\n",
    "food_labeled = labeled_widget('When buying food, do you consider the healthiness of the food:', food)  # Changed this line\n",
    "\n",
    "\n",
    "display(name_labeled, age_labeled, hours_slept_labeled, sleep_quality_labeled,\n",
    "        stress_labeled, exercise_labeled, daily_steps_labeled,\n",
    "        alcohol_consumption_labeled, food_labeled, button)\n"
   ]
  },
  {
   "cell_type": "code",
   "execution_count": 15,
   "metadata": {},
   "outputs": [],
   "source": [
    "# for testing set the values to the parameters from the form\n",
    "name_value = \"Test\"\n",
    "age_value = 20\n",
    "hours_slept_value = 8.0\n",
    "sleep_quality_value = 1\n",
    "stress_value = 1\n",
    "exercise_value = 1\n",
    "daily_steps_value = 10000\n",
    "alcohol_consumption_value = 0\n",
    "food_value = 1\n"
   ]
  },
  {
   "cell_type": "markdown",
   "metadata": {},
   "source": [
    "Helpful info: <br>\n",
    "One alcohol unit is around 12g of pure alcohol. <br>\n"
   ]
  },
  {
   "cell_type": "code",
   "execution_count": 22,
   "metadata": {},
   "outputs": [
    {
     "data": {
      "image/png": "[encoded data removed]",
      "text/plain": [
       "<Figure size 1000x600 with 1 Axes>"
      ]
     },
     "metadata": {},
     "output_type": "display_data"
    },
    {
     "name": "stdout",
     "output_type": "stream",
     "text": [
      "You sleep more than the average person. \n",
      " The difference is 0.21 hours.\n"
     ]
    }
   ],
   "source": [
    "user_sleep_hours = hours_slept_value\n",
    "\n",
    "\n",
    "# Create the plot\n",
    "plt.figure(figsize=(10, 6))\n",
    "\n",
    "x_values = np.ones(len(data['Sleeptime (h)']))\n",
    "plt.scatter(x_values, data['Sleeptime (h)'], color='blue', marker='o', s=100, alpha=0.5, label='COVID Data')\n",
    "\n",
    "plt.scatter([1], [user_sleep_hours], color='red', marker='o', s=100, label=name_value)\n",
    "\n",
    "# print average sleep hours as dotted line\n",
    "plt.axhline(y=data['Sleeptime (h)'].mean(), color='black', linestyle='--', label='Average Sleep Hours')\n",
    "\n",
    "plt.xlabel('Entity')\n",
    "plt.ylabel('Sleep Hours')\n",
    "plt.title('User Sleep Hours vs COVID Data')\n",
    "plt.legend()\n",
    "\n",
    "plt.show()\n",
    "\n",
    "if user_sleep_hours < data['Sleeptime (h)'].mean():\n",
    "    print(\"\"\"You sleep less than the average person. Try to sleep more. \\n\n",
    "          The difference is {data['Sleeptime (h)'].mean() - user_sleep_hours} hours.\"\"\")\n",
    "elif user_sleep_hours == data['Sleeptime (h)'].mean():\n",
    "    print(\"You sleep the same amount as the average person. Good job!\")\n",
    "else:\n",
    "    print(f\"You sleep more than the average person. \\n The difference is {round(user_sleep_hours - data['Sleeptime (h)'].mean(), 2)} hours.\")"
   ]
  },
  {
   "cell_type": "code",
   "execution_count": 11,
   "metadata": {},
   "outputs": [
    {
     "name": "stderr",
     "output_type": "stream",
     "text": [
      "No artists with labels found to put in legend.  Note that artists whose label start with an underscore are ignored when legend() is called with no argument.\n"
     ]
    },
    {
     "data": {
      "text/plain": [
       "<matplotlib.legend.Legend at 0x296295110>"
      ]
     },
     "execution_count": 11,
     "metadata": {},
     "output_type": "execute_result"
    },
    {
     "data": {
      "image/png": "[encoded data removed]",
      "text/plain": [
       "<Figure size 1000x600 with 1 Axes>"
      ]
     },
     "metadata": {},
     "output_type": "display_data"
    }
   ],
   "source": [
    "# plot the user's sleep quality vs the average sleep quality of the COVID data\n",
    "\n",
    "user_sleep_quality = sleep_quality_value\n",
    "\n",
    "plt.figure(figsize=(10, 6))\n",
    "\n",
    "#x_values = np.ones(len(data['sleep quality']))\n",
    "\n",
    "#create sleep quality sample data with values 1, 2, 3\n",
    "x_values = np.ones(3)\n",
    "x_values[0] = 1\n",
    "x_values[1] = 2\n",
    "x_values[2] = 3\n",
    "\n",
    "\n",
    "#plt.scatter(x_values, data['sleep quality'], color='blue', marker='o', s=100, alpha=0.5, label='Data')\n",
    "\n",
    "plt.scatter([1], [user_sleep_quality], color='red', marker='o', s=100, label=name_value)\n",
    "\n",
    "#plt.axhline(y=data['sleep quality'].mean(), color='black', linestyle='--', label='Average Sleep Quality')\n",
    "\n",
    "# Add labels and title\n",
    "plt.xlabel('Entity')\n",
    "plt.ylabel('Sleep Quality')\n",
    "plt.title('User Sleep Quality vs COVID Data')\n",
    "plt.legend()\n",
    "\n",
    "\n"
   ]
  },
  {
   "cell_type": "code",
   "execution_count": null,
   "metadata": {},
   "outputs": [],
   "source": [
    "#more plots here \n"
   ]
  }
 ],
 "metadata": {
  "kernelspec": {
   "display_name": "Python 3 (ipykernel)",
   "language": "python",
   "name": "python3"
  },
  "language_info": {
   "codemirror_mode": {
    "name": "ipython",
    "version": 3
   },
   "file_extension": ".py",
   "mimetype": "text/x-python",
   "name": "python",
   "nbconvert_exporter": "python",
   "pygments_lexer": "ipython3",
   "version": "3.11.5"
  }
 },
 "nbformat": 4,
 "nbformat_minor": 4
}
