{
 "cells": [
  {
   "cell_type": "markdown",
   "metadata": {},
   "source": [
    "# HealtNotebook \n",
    "\n"
   ]
  },
  {
   "cell_type": "markdown",
   "metadata": {},
   "source": [
    "Welcome to HeathNotebook! <br> This is a notebook for health data analysis.\n",
    "First we will ask you to enter your name and age and then we will ask more about your current health.\n",
    "Depending on where you are running this notebook, when you run the next cell, you will be prompted to write your name and age."
   ]
  },
  {
   "cell_type": "code",
   "execution_count": 1,
   "metadata": {
    "tags": []
   },
   "outputs": [
    {
     "data": {
      "application/vnd.jupyter.widget-view+json": {
       "model_id": "49e954948d8f447cbd199cb541bda65a",
       "version_major": 2,
       "version_minor": 0
      },
      "text/plain": [
       "VBox(children=(VBox(children=(Label(value='Name:'), Text(value='')), layout=Layout(margin='0 0 20px 0')), Labe…"
      ]
     },
     "metadata": {},
     "output_type": "display_data"
    }
   ],
   "source": [
    "import sys\n",
    "sys.path.append('./modules')\n",
    "\n",
    "import data_module\n",
    "import questionnaire_module"
   ]
  },
  {
   "cell_type": "code",
   "execution_count": 2,
   "metadata": {},
   "outputs": [
    {
     "name": "stdout",
     "output_type": "stream",
     "text": [
      "The user's name is: Heidi\n"
     ]
    }
   ],
   "source": [
    "user_data = questionnaire_module.get_data()\n",
    "print(f\"The user's name is: {user_data['Name']}\")\n",
    "\n"
   ]
  },
  {
   "cell_type": "code",
   "execution_count": null,
   "metadata": {},
   "outputs": [],
   "source": [
    "# for testing set the values to the parameters from the form\n",
    "name_value = \"Test\"\n",
    "age_value = 20\n",
    "hours_slept_value = 8.0\n",
    "sleep_quality_value = 1\n",
    "stress_value = 1\n",
    "exercise_value = 1\n",
    "daily_steps_value = 10000\n",
    "alcohol_consumption_value = 0\n",
    "food_value = 1\n",
    "latency = 10\n",
    "stress = 1\n",
    "\n"
   ]
  },
  {
   "cell_type": "code",
   "execution_count": null,
   "metadata": {},
   "outputs": [],
   "source": [
    "data['Sleeptime (h)']"
   ]
  },
  {
   "cell_type": "code",
   "execution_count": null,
   "metadata": {},
   "outputs": [],
   "source": [
    "# function to plot the user data and the data \n",
    "def plot_graphs(x,y, user_x, user_y):\n",
    "    plt.figure(figsize=(10, 6))\n",
    "    x_values = data[x]\n",
    "    y_values = data[y]\n",
    "    plt.scatter(x_values, y_values, color='pink', marker='o', s=100, alpha=0.5, label='Data')\n",
    "    plt.scatter([user_x], [user_y], color='purple', marker='o', s=100, label=name_value)\n",
    "    # labels are the column names\n",
    "    plt.xlabel(x)\n",
    "    plt.ylabel(y)\n",
    "    plt.legend()\n",
    "\n",
    "\n",
    "#call the function to plot the graphs\n",
    "y = data['Sleeptime (h)']\n",
    "x = data['Stress']\n",
    "\n",
    "# get the datatypes of x and y \n",
    "print(type(x))\n",
    "print(type(y))\n",
    "\n",
    "\n",
    "#plot_graphs(float(x), y, float(stress_value), hours_slept_value)     "
   ]
  },
  {
   "cell_type": "code",
   "execution_count": null,
   "metadata": {},
   "outputs": [],
   "source": [
    "user_sleep_hours = hours_slept_value\n",
    "\n",
    "\n",
    "# Create the plot\n",
    "plt.figure(figsize=(10, 6))\n",
    "\n",
    "x_values = np.ones(len(data['Sleeptime (h)']))\n",
    "plt.scatter(x_values, data['Sleeptime (h)'], color='pink', marker='o', s=100, alpha=0.5, label='Data')\n",
    "\n",
    "plt.scatter([1], [user_sleep_hours], color='purple', marker='o', s=100, label=name_value)\n",
    "\n",
    "# print average sleep hours as dotted line\n",
    "plt.axhline(y=data['Sleeptime (h)'].mean(), color='black', linestyle='--', label='Average Sleep Hours')\n",
    "# no values in the x axis\n",
    "plt.xticks([])\n",
    "\n",
    "plt.ylabel('Sleep Hours')\n",
    "plt.title('User Sleep Hours vs Data')\n",
    "plt.legend()\n",
    "y_min, y_max = plt.ylim()\n",
    "x_min, x_max = plt.xlim()\n",
    "\n",
    "# plot the text to the graph\n",
    "if user_sleep_hours < data['Sleeptime (h)'].mean():\n",
    "    plot_text = f\"You sleep less than the average person. \\n The difference is {round(data['Sleeptime (h)'].mean() - user_sleep_hours, 2)} hours.\"\n",
    "elif user_sleep_hours == data['Sleeptime (h)'].mean():\n",
    "    plot_text = f\"You sleep the same amount as the average person.\"\n",
    "else:\n",
    "    plot_text = f\"You sleep more than the average person in the dataset. \\n The difference is {round(user_sleep_hours - data['Sleeptime (h)'].mean(), 2)} hours.\"\n",
    "\n",
    "plt.text(x_min + 0.505*(x_max-x_min), y_min + 0.4*(y_max-y_min), plot_text, fontsize = 10)\n",
    "\n",
    "\n",
    "\n",
    "plt.show()\n"
   ]
  },
  {
   "cell_type": "code",
   "execution_count": null,
   "metadata": {},
   "outputs": [],
   "source": [
    "# steps and latency scatter plot\n",
    "plt.figure(figsize=(10, 6))\n",
    "\n",
    "x_values = data['Steps']\n",
    "y_values = data['Latency']\n",
    "\n",
    "plt.scatter(x_values, y_values, color='pink', marker='o', s=100, alpha=0.5, label='Data')\n",
    "plt.scatter([daily_steps_value], [latency], color='purple', marker='o', s=100, label=name_value)\n",
    "\n",
    "\n",
    "plt.ylabel('Latency in minutes')\n",
    "plt.xlabel('Steps')\n",
    "#plt.title('User Sleep Hours vs Data')\n",
    "# print average latency as dotted line\n",
    "plt.axhline(y=data['Latency'].mean(), color='black', linestyle='--', label='Average Latency')\n",
    "\n",
    "\n",
    "\n",
    "plt.legend()\n",
    "plt.show()\n"
   ]
  },
  {
   "cell_type": "code",
   "execution_count": null,
   "metadata": {},
   "outputs": [],
   "source": [
    "# Sleep time and Stress \n",
    "plt.figure(figsize=(10, 6))\n",
    "\n",
    "y_values = data['Sleeptime (h)']\n",
    "x_values = data['Stress']\n",
    "plt.scatter(x_values, y_values, color='pink', marker='o', s=100, alpha=0.5, label='Data')\n",
    "plt.scatter([hours_slept_value], [stress_value], color='purple', marker='o', s=100, label=name_value)\n",
    "\n",
    "plt.show()\n"
   ]
  },
  {
   "cell_type": "code",
   "execution_count": null,
   "metadata": {},
   "outputs": [],
   "source": [
    "# 1. sctter steps latency\n",
    "\n",
    "food healthiness ja restfullness \n",
    "\n",
    "plt.figure(figsize=(10, 6))\n",
    "\n",
    "y_values = data['Restfulness']\n",
    "x_values = data['Food Healthiness']\n",
    "plt.scatter(x_values, y_values, color='pink', marker='o', s=100, alpha=0.5, label='Data')\n",
    "plt.scatter([food_value], [], color='purple', marker='o', s=100, label=name_value)\n",
    "\n",
    "plt.show()"
   ]
  },
  {
   "cell_type": "markdown",
   "metadata": {},
   "source": [
    "Load pre-trained models with Pickle and make predictions based on input by the user."
   ]
  },
  {
   "cell_type": "code",
   "execution_count": null,
   "metadata": {},
   "outputs": [],
   "source": [
    "with open('./data/models/model_sleeptime.pkl', 'rb') as f:\n",
    "    model_sleeptime = pickle.load(f)\n",
    "\n",
    "with open('./data/models/model_latency.pkl', 'rb') as f:\n",
    "    model_latency = pickle.load(f)\n",
    "\n",
    "# This model takes as inputs the step count, stress level and exercise\n",
    "# These values would be given by the user\n",
    "steps = 7000\n",
    "stress_level = 3\n",
    "exercise = 0\n",
    "\n",
    "# Predict sleep time and latecy for the user\n",
    "x = np.array([steps, stress_level, exercise])\n",
    "pred_sleep = model_sleeptime.predict(x.reshape(-1 ,3))\n",
    "pred_latency = model_latency.predict(x.reshape(-1, 3))\n",
    "print(\"Predicted sleeptime\", round(pred_sleep[0], 2), \"(h) and predicted latency\", round(pred_latency[0], 2), \"(min).\")\n",
    "\n",
    "# Make another prediction with decreased stress and added exercise\n",
    "# (higher stress level actually means lower stress)\n",
    "x = np.array([steps, stress_level + 2, 1])\n",
    "pred_sleep_alt = model_sleeptime.predict(x.reshape(-1 ,3))\n",
    "pred_latency_alt = model_latency.predict(x.reshape(-1, 3))\n",
    "diff_sleep = (pred_sleep_alt[0] - pred_sleep[0]) * 60\n",
    "diff_latency = pred_latency[0] - pred_sleep_alt[0]\n",
    "print(\"By moderately decresing your stress level and adding exericse to your routine you can change your sleep:\")\n",
    "print(\"Increase sleep time by\", round(diff_sleep, 1), \"minutes.\")\n",
    "print(\"Decrease sleep latency by\", round(diff_latency, 1), \"minutes.\")\n"
   ]
  },
  {
   "cell_type": "code",
   "execution_count": null,
   "metadata": {},
   "outputs": [],
   "source": [
    "import json\n",
    "\n",
    "def find_imports_in_notebook(notebook_path):\n",
    "    with open(notebook_path, 'r') as f:\n",
    "        notebook = json.load(f)\n",
    "\n",
    "    imports = set()\n",
    "\n",
    "    for cell in notebook['cells']:\n",
    "        if cell['cell_type'] == 'code':\n",
    "            for line in cell['source']:\n",
    "                if line.startswith('import') or line.startswith('from'):\n",
    "                    imports.add(line.strip())\n",
    "\n",
    "    return imports\n",
    "\n",
    "notebook_path = '../DataScienceProject/HealthNotebook.ipynb'  # Replace this with the path to your notebook\n",
    "imports = find_imports_in_notebook(notebook_path)\n",
    "print(\"Packages imported:\")\n",
    "for i in imports:\n",
    "    print(i)\n"
   ]
  },
  {
   "cell_type": "code",
   "execution_count": null,
   "metadata": {},
   "outputs": [],
   "source": []
  }
 ],
 "metadata": {
  "kernelspec": {
   "display_name": "Python 3 (ipykernel)",
   "language": "python",
   "name": "python3"
  },
  "language_info": {
   "codemirror_mode": {
    "name": "ipython",
    "version": 3
   },
   "file_extension": ".py",
   "mimetype": "text/x-python",
   "name": "python",
   "nbconvert_exporter": "python",
   "pygments_lexer": "ipython3",
   "version": "3.11.5"
  }
 },
 "nbformat": 4,
 "nbformat_minor": 4
}
