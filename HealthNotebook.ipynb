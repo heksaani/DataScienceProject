{
 "cells": [
  {
   "cell_type": "markdown",
   "metadata": {},
   "source": [
    "# HealtNotebook \n",
    "\n"
   ]
  },
  {
   "cell_type": "markdown",
   "metadata": {},
   "source": [
    "Welcome to HeathNotebook! <br> This is a notebook for health data analysis.\n",
    "First we will ask you to enter your name and age and then we will ask more about your current health.\n",
    "Depending on where you are running this notebook, when you run the next cell, you will be prompted to write your name and age."
   ]
  },
  {
   "cell_type": "code",
   "execution_count": 7,
   "metadata": {
    "tags": []
   },
   "outputs": [],
   "source": [
    "import matplotlib.pyplot as plt\n",
    "import ipywidgets as widgets\n",
    "import pandas as pd\n",
    "import numpy as np\n",
    "import seaborn as sns\n",
    "import pickle\n",
    "\n",
    "from IPython.display import display\n",
    "\n",
    "data = pd.read_csv(\"./data/data_combined_final.csv\")\n",
    "\n",
    "\n",
    "# remove id and country columns\n",
    "data = data.drop(['id', 'country'], axis=1)"
   ]
  },
  {
   "cell_type": "code",
   "execution_count": 8,
   "metadata": {},
   "outputs": [
    {
     "data": {
      "text/plain": [
       "Index(['Steps', 'Socialize (min)', 'Leave house', 'People contact',\n",
       "       'Alcohol (bev)', 'Exercise', 'Stress', 'Worry (scale)',\n",
       "       'Worry (finances)', 'Worry (health)', 'PHQ9', 'PANAS (NA)',\n",
       "       'PANAS (PA)', 'Isolation', 'Latency', 'Wakes', 'Sleeptime (h)',\n",
       "       'student', 'Age Group', 'Restfulness', 'Wakes (scale)', 'Nervousness',\n",
       "       'Depression', 'Anxiety', 'Insomnia', 'Exercise (scale)',\n",
       "       'Food Healthiness', 'Alcohol'],\n",
       "      dtype='object')"
      ]
     },
     "execution_count": 8,
     "metadata": {},
     "output_type": "execute_result"
    }
   ],
   "source": [
    "data.columns"
   ]
  },
  {
   "cell_type": "code",
   "execution_count": 6,
   "metadata": {},
   "outputs": [
    {
     "data": {
      "application/vnd.jupyter.widget-view+json": {
       "model_id": "c9487d08d131413c8b1f3c66a1251509",
       "version_major": 2,
       "version_minor": 0
      },
      "text/plain": [
       "VBox(children=(Label(value='Name:'), Text(value='', placeholder='Type something')), layout=Layout(align_items=…"
      ]
     },
     "metadata": {},
     "output_type": "display_data"
    },
    {
     "data": {
      "application/vnd.jupyter.widget-view+json": {
       "model_id": "7cfc96c0c54a4ee0a6caaaabfacbcd95",
       "version_major": 2,
       "version_minor": 0
      },
      "text/plain": [
       "VBox(children=(Label(value='Age:'), IntText(value=0)), layout=Layout(align_items='stretch'))"
      ]
     },
     "metadata": {},
     "output_type": "display_data"
    },
    {
     "data": {
      "application/vnd.jupyter.widget-view+json": {
       "model_id": "bf1936632fef4e2e947c17eb27ad87d0",
       "version_major": 2,
       "version_minor": 0
      },
      "text/plain": [
       "VBox(children=(Label(value='Hours slept on average:'), FloatText(value=0.0)), layout=Layout(align_items='stret…"
      ]
     },
     "metadata": {},
     "output_type": "display_data"
    },
    {
     "data": {
      "application/vnd.jupyter.widget-view+json": {
       "model_id": "83533ed04443451b91c5470b3e1cb5b7",
       "version_major": 2,
       "version_minor": 0
      },
      "text/plain": [
       "VBox(children=(Label(value='Do you feel you sleep enough?:'), Dropdown(options=('1: Yes, almost always', '2: Y…"
      ]
     },
     "metadata": {},
     "output_type": "display_data"
    },
    {
     "data": {
      "application/vnd.jupyter.widget-view+json": {
       "model_id": "e5b30cf3ec1646c480ba41027a176e70",
       "version_major": 2,
       "version_minor": 0
      },
      "text/plain": [
       "VBox(children=(Label(value='Stress, on a scale from 1 to 7:'), Dropdown(options=('1', '2', '3', '4', '5', '6',…"
      ]
     },
     "metadata": {},
     "output_type": "display_data"
    },
    {
     "data": {
      "application/vnd.jupyter.widget-view+json": {
       "model_id": "26d7bb848c9d4c918e4bdd055c9ebd1b",
       "version_major": 2,
       "version_minor": 0
      },
      "text/plain": [
       "VBox(children=(Label(value='Is exercise part of your daily life:'), Dropdown(options=('Yes', 'No'), value='Yes…"
      ]
     },
     "metadata": {},
     "output_type": "display_data"
    },
    {
     "data": {
      "application/vnd.jupyter.widget-view+json": {
       "model_id": "35c2665db4754c4b89d567d7224e226c",
       "version_major": 2,
       "version_minor": 0
      },
      "text/plain": [
       "VBox(children=(Label(value='Daily steps:'), IntText(value=0)), layout=Layout(align_items='stretch'))"
      ]
     },
     "metadata": {},
     "output_type": "display_data"
    },
    {
     "data": {
      "application/vnd.jupyter.widget-view+json": {
       "model_id": "a4a152612b924747b4ec9e9d27be37ff",
       "version_major": 2,
       "version_minor": 0
      },
      "text/plain": [
       "VBox(children=(Label(value='Number of alcohol units:'), FloatText(value=0.0)), layout=Layout(align_items='stre…"
      ]
     },
     "metadata": {},
     "output_type": "display_data"
    },
    {
     "data": {
      "application/vnd.jupyter.widget-view+json": {
       "model_id": "f43ebc947a8044a8b7ae055b5236a05e",
       "version_major": 2,
       "version_minor": 0
      },
      "text/plain": [
       "VBox(children=(Label(value='When buying/acquiring food, do you take health factors into account?:'), Dropdown(…"
      ]
     },
     "metadata": {},
     "output_type": "display_data"
    },
    {
     "data": {
      "application/vnd.jupyter.widget-view+json": {
       "model_id": "ccb49186c8e940a0aa1cf7e4a7aec899",
       "version_major": 2,
       "version_minor": 0
      },
      "text/plain": [
       "VBox(children=(Label(value='Have you recently lost sleep over worry?:'), Dropdown(options=('1: Yes, almost alw…"
      ]
     },
     "metadata": {},
     "output_type": "display_data"
    },
    {
     "data": {
      "application/vnd.jupyter.widget-view+json": {
       "model_id": "e2dc1a97ef394485a73ba1270318b3d5",
       "version_major": 2,
       "version_minor": 0
      },
      "text/plain": [
       "Button(description='Submit', style=ButtonStyle())"
      ]
     },
     "metadata": {},
     "output_type": "display_data"
    }
   ],
   "source": [
    "name_value = \"\"\n",
    "age_value = 0\n",
    "hours_slept_value = 0.0\n",
    "sleep_quality_value = \"\"\n",
    "stress_value = \"\"\n",
    "exercise_value = \"\"\n",
    "daily_steps_value = 0\n",
    "alcohol_consumption_value = 0.0\n",
    "food_value = \"\"\n",
    "socialize_minutes_value = 0\n",
    "leave_house_value = \"\"\n",
    "number_of_people_contact = 0\n",
    "worry_categorical = \"\"\n",
    "worry_finances_value = \"\"\n",
    "worry_health_value = \"\"\n",
    "phq9_value = 0\n",
    "isolations_value = \"\"\n",
    "latency = 0\n",
    "wakes = 0\n",
    "student = \"\"\n",
    "restfulness = \"\"\n",
    "wakes_scale = \"\"\n",
    "nervousness = \"\"\n",
    "depression = \"\"\n",
    "insomnia_value = \"\"\n",
    "exercise_scale = \"\"\n",
    "alcohol_scale = \"\"\n",
    "\n",
    "\n",
    "def labeled_widget(label, widget):\n",
    "    return widgets.VBox([widgets.Label(label), widget], layout=widgets.Layout(align_items='stretch'))\n",
    "\n",
    "name = widgets.Text(\n",
    "    value='',\n",
    "    placeholder='Type something',\n",
    "    disabled=False)\n",
    "\n",
    "age = widgets.IntText(\n",
    "    value=0, \n",
    "    placeholder='Type something',\n",
    "    disabled=False,\n",
    "    min=0)\n",
    "\n",
    "hours_slept = widgets.FloatText(\n",
    "    value=0.0,\n",
    "    placeholder='Type something',\n",
    "    disabled=False,\n",
    "    min=0.0,)\n",
    "\n",
    "sleep_quality = widgets.Dropdown(\n",
    "    options=[\"1: Yes, almost always\", \"2: Yes, often\", \"3: Rarely, or almost never\"],\n",
    "    value=\"1: Yes, almost always\",\n",
    "    disabled=False)\n",
    "\n",
    "stress = widgets.Dropdown(\n",
    "    options=[\"1: Not stressed at all\", \"2\", \"3\", \"4\", \"5\", \"6\", \"7: Cosumed by stres\"],\n",
    "    value = \"1\",\n",
    "    placeholder='1',\n",
    "    disabled=False)\n",
    "\n",
    "exercise = widgets.Dropdown(\n",
    "    options=[\"Yes\", \"No\"],\n",
    "    value=\"Yes\",\n",
    "    disabled=False)\n",
    "\n",
    "daily_steps = widgets.IntText(\n",
    "    value=0, \n",
    "    placeholder=0,\n",
    "    disabled=False,\n",
    "    min=0)\n",
    "\n",
    "alcohol_consumption = widgets.FloatText(\n",
    "    value=0.0,\n",
    "    placeholder=0.0,\n",
    "    disabled=False,\n",
    "    min=0.0,)\n",
    "\n",
    "food = widgets.Dropdown(\n",
    "    options=[\"1: Never\" , \"2: Yes, sometimes\", \"3: Often\"],\n",
    "    value=\"1: Never\",\n",
    "    disabled=False)\n",
    "\n",
    "socialize_minutes = widgets.IntText(\n",
    "    value=0,\n",
    "    placeholder=0,\n",
    "    disabled=False,\n",
    "    min=0)\n",
    "\n",
    "leave_house = widgets.Dropdown(\n",
    "    options = [\"1: yes \", \"0: no\"],\n",
    "    value = \"0: no\",\n",
    "    disabled=False)\n",
    "\n",
    "\n",
    "number_of_people_contact = widgets.IntText(\n",
    "    value=0,\n",
    "    placeholder=0,\n",
    "    disabled=False,\n",
    "    min=0)\n",
    "\n",
    "latency = widgets.IntText(\n",
    "    value=0,\n",
    "    placeholder=0,\n",
    "    disabled=False,\n",
    "    min=0)\n",
    "\n",
    "wakes = widgets.IntText(\n",
    "    value=0,\n",
    "    placeholder=0,\n",
    "    disabled=False,\n",
    "    min=0)\n",
    "\n",
    "student = widgets.Dropdown(\n",
    "    options = [\"1: yes \", \"0: no\"],\n",
    "    value = \"0: no\",\n",
    "    disabled=False)\n",
    "\n",
    "restfulness = widgets.Dropdown(\n",
    "    options = [\"1: Yes, nearly always\", \"2: yes, often\", \"3: Seldom or hardly ever\", \"4: Can't say\"],\n",
    "    value = \"1: Yes, nearly always\",\n",
    "    disabled=False)\n",
    "\n",
    "wakes_scale = widgets.Dropdown(\n",
    "    options = [\"0: No\", \"1:Occationally\", \"2: Weekly\", \"3: Daily or almost daily\"],\n",
    "\n",
    "\n",
    "\n",
    "\n",
    "Wakes (scale) = Categorical value of how often the person has woken up or had difficulty to fall asleep <br>\n",
    "       Q: Have you experienced any the following during the past month: Waking up during the night or difficulty in falling asleep? <br>\n",
    "       0: No <br>\n",
    "       1:Occationally <br>\n",
    "       2: Weekly <br>\n",
    "       3: Daily or almost daily<br>\n",
    "\n",
    "\n",
    "Nervousness = Categorical value of nervousness from 0 to 3 with increasing nervousness <br>\n",
    "       Q : Have you experienced any the following during the past month: Nervous tension/nervousness <br>\n",
    "       0 : No <br>\n",
    "       1 : Occationally <br>\n",
    "       2 : Weekly <br>\n",
    "       3 : Daily or almost daily <br>\n",
    "\n",
    "Depression = Categorical value of depression from 0 to 3 with increasing depression <br>\n",
    "       Q: Have you experienced any the following during the past month: Depression or feeling low\n",
    "       0: No\n",
    "       1: Occationally\n",
    "       2: Weekly\n",
    "       3: Daily or almost daily\n",
    "\n",
    "Anxiety = Categorical value of anxiety from 0 to 3 with increasing anxiety <br>\n",
    "       Q: Have you experienced any the following during the past month: Anxiety <br>\n",
    "       0: No <br>\n",
    "       1: Occationally <br>\n",
    "       2: Weekly <br>\n",
    "       3: Daily or almost daily <br>\n",
    "\n",
    "\n",
    "\n",
    "\n",
    "insomnia = widgets.Dropdown(\n",
    "    options=[\"1: Not at all\", \"2: No more than usual\", \"3: Rather more than usual\", \"4: Much more than usual\"],\n",
    "    value=\"1: Not at all\",\n",
    "    disabled=False)\n",
    "\n",
    "\n",
    "button = widgets.Button(description=\"Submit\")\n",
    "\n",
    "# Define a function to handle button click event\n",
    "def on_button_click(b):\n",
    "    global name_value, age_value, hours_slept_value, sleep_quality_value, \\\n",
    "    stress_value, exercise_value, daily_steps_value, alcohol_consumption_value, food_value\n",
    "\n",
    "    name_value = name.value\n",
    "    age_value = age.value\n",
    "    hours_slept_value = hours_slept.value\n",
    "    sleep_quality_value = int(sleep_quality.value.split(\":\")[0])\n",
    "    stress_value = int(stress.value)\n",
    "    exercise_value = 1 if exercise.value == \"Yes\" else 0\n",
    "    daily_steps_value = daily_steps.value\n",
    "    alcohol_consumption_value = int(alcohol_consumption.value)\n",
    "    food_value = int(food.value.split(\":\")[0])\n",
    "    insomnia_value = int(insomnia.value.split(\":\")[0])\n",
    "\n",
    "\n",
    "# Set the function to be called on button click\n",
    "button.on_click(on_button_click)\n",
    "\n",
    "# Create labeled widgets\n",
    "name_labeled = labeled_widget('Name:', name)\n",
    "age_labeled = labeled_widget('Age:', age)\n",
    "hours_slept_labeled = labeled_widget('Hours slept on average:', hours_slept)\n",
    "sleep_quality_labeled = labeled_widget('Do you feel you sleep enough?:', sleep_quality)\n",
    "stress_labeled = labeled_widget('Stress, on a scale from 1 to 7:', stress)  \n",
    "exercise_labeled = labeled_widget('Is exercise part of your daily life:', exercise)  \n",
    "daily_steps_labeled = labeled_widget('Daily steps:', daily_steps)  \n",
    "alcohol_consumption_labeled = labeled_widget('Number of alcohol units:', alcohol_consumption)  \n",
    "food_labeled = labeled_widget('When buying/acquiring food, do you take health factors into account?:', food)  \n",
    "\n",
    "\n",
    "insomnia_labeled = labeled_widget('Have you recently lost sleep over worry?:', insomnia)\n",
    "\n",
    "\n",
    "display(name_labeled, age_labeled, hours_slept_labeled, sleep_quality_labeled,\n",
    "        stress_labeled, exercise_labeled, daily_steps_labeled,\n",
    "        alcohol_consumption_labeled, food_labeled, insomnia_labeled,\n",
    "        button)\n"
   ]
  },
  {
   "cell_type": "code",
   "execution_count": null,
   "metadata": {},
   "outputs": [],
   "source": [
    "# for testing set the values to the parameters from the form\n",
    "name_value = \"Test\"\n",
    "age_value = 20\n",
    "hours_slept_value = 8.0\n",
    "sleep_quality_value = 1\n",
    "stress_value = 1\n",
    "exercise_value = 1\n",
    "daily_steps_value = 10000\n",
    "alcohol_consumption_value = 0\n",
    "food_value = 1\n"
   ]
  },
  {
   "cell_type": "code",
   "execution_count": null,
   "metadata": {},
   "outputs": [],
   "source": [
    "user_sleep_hours = hours_slept_value\n",
    "\n",
    "\n",
    "# Create the plot\n",
    "plt.figure(figsize=(10, 6))\n",
    "\n",
    "x_values = np.ones(len(data['Sleeptime (h)']))\n",
    "plt.scatter(x_values, data['Sleeptime (h)'], color='blue', marker='o', s=100, alpha=0.5, label='Data')\n",
    "\n",
    "plt.scatter([1], [user_sleep_hours], color='red', marker='o', s=100, label=name_value)\n",
    "\n",
    "# print average sleep hours as dotted line\n",
    "plt.axhline(y=data['Sleeptime (h)'].mean(), color='black', linestyle='--', label='Average Sleep Hours')\n",
    "\n",
    "plt.xlabel('Entity')\n",
    "plt.ylabel('Sleep Hours')\n",
    "plt.title('User Sleep Hours vs Data')\n",
    "plt.legend()\n",
    "y_min, y_max = plt.ylim()\n",
    "x_min, x_max = plt.xlim()\n",
    "\n",
    "# plot the text to the graph\n",
    "if user_sleep_hours < data['Sleeptime (h)'].mean():\n",
    "    plot_text = f\"You sleep less than the average person. \\n The difference is {round(data['Sleeptime (h)'].mean() - user_sleep_hours, 2)} hours.\"\n",
    "elif user_sleep_hours == data['Sleeptime (h)'].mean():\n",
    "    plot_text = f\"You sleep the same amount as the average person.\"\n",
    "else:\n",
    "    plot_text = f\"You sleep more than the average person. \\n The difference is {round(user_sleep_hours - data['Sleeptime (h)'].mean(), 2)} hours.\"\n",
    "\n",
    "plt.text(-5, 60, plot_text, fontsize = 22)\n",
    "\n",
    "plt.show()"
   ]
  },
  {
   "cell_type": "code",
   "execution_count": null,
   "metadata": {},
   "outputs": [],
   "source": []
  },
  {
   "cell_type": "code",
   "execution_count": null,
   "metadata": {},
   "outputs": [],
   "source": [
    "# plot the user's sleep quality vs the average sleep quality of the COVID data\n",
    "\n",
    "user_sleep_quality = sleep_quality_value\n",
    "\n",
    "plt.figure(figsize=(10, 6))\n",
    "\n",
    "#x_values = np.ones(len(data['sleep quality']))\n",
    "\n",
    "#create sleep quality sample data with values 1, 2, 3\n",
    "x_values = np.ones(3)\n",
    "x_values[0] = 1\n",
    "x_values[1] = 2\n",
    "x_values[2] = 3\n",
    "\n",
    "\n",
    "#plt.scatter(x_values, data['sleep quality'], color='blue', marker='o', s=100, alpha=0.5, label='Data')\n",
    "\n",
    "plt.scatter([1], [user_sleep_quality], color='red', marker='o', s=100, label=name_value)\n",
    "\n",
    "#plt.axhline(y=data['sleep quality'].mean(), color='black', linestyle='--', label='Average Sleep Quality')\n",
    "\n",
    "# Add labels and title\n",
    "plt.xlabel('Entity')\n",
    "plt.ylabel('Sleep Quality')\n",
    "plt.title('User Sleep Quality vs Data')\n",
    "plt.legend()\n",
    "\n",
    "\n"
   ]
  },
  {
   "cell_type": "markdown",
   "metadata": {},
   "source": [
    "Load pre-trained models with Pickle and make predictions based on input by the user."
   ]
  },
  {
   "cell_type": "code",
   "execution_count": null,
   "metadata": {},
   "outputs": [],
   "source": [
    "with open('./data/models/model_sleeptime.pkl', 'rb') as f:\n",
    "    model_sleeptime = pickle.load(f)\n",
    "\n",
    "with open('./data/models/model_latency.pkl', 'rb') as f:\n",
    "    model_latency = pickle.load(f)\n",
    "\n",
    "# This model takes as inputs the step count, stress level and exercise\n",
    "# These values would be given by the user\n",
    "steps = 7000\n",
    "stress_level = 3\n",
    "exercise = 0\n",
    "\n",
    "# Predict sleep time and latecy for the user\n",
    "x = np.array([steps, stress_level, exercise])\n",
    "pred_sleep = model_sleeptime.predict(x.reshape(-1 ,3))\n",
    "pred_latency = model_latency.predict(x.reshape(-1, 3))\n",
    "print(\"Predicted sleeptime\", round(pred_sleep[0], 2), \"(h) and predicted latency\", round(pred_latency[0], 2), \"(min).\")\n",
    "\n",
    "# Make another prediction with decreased stress and added exercise\n",
    "# (higher stress level actually means lower stress)\n",
    "x = np.array([steps, stress_level + 2, 1])\n",
    "pred_sleep_alt = model_sleeptime.predict(x.reshape(-1 ,3))\n",
    "pred_latency_alt = model_latency.predict(x.reshape(-1, 3))\n",
    "diff_sleep = (pred_sleep_alt[0] - pred_sleep[0]) * 60\n",
    "diff_latency = pred_latency[0] - pred_sleep_alt[0]\n",
    "print(\"By moderately decresing your stress level and adding exericse to your routine you can change your sleep:\")\n",
    "print(\"Increase sleep time by\", round(diff_sleep, 1), \"minutes.\")\n",
    "print(\"Decrease sleep latency by\", round(diff_latency, 1), \"minutes.\")\n"
   ]
  },
  {
   "cell_type": "code",
   "execution_count": 5,
   "metadata": {},
   "outputs": [
    {
     "name": "stdout",
     "output_type": "stream",
     "text": [
      "Packages imported:\n",
      "import numpy as np\n",
      "import pandas as pd\n",
      "from IPython.display import display\n",
      "import pickle\n",
      "import seaborn as sns\n",
      "import matplotlib.pyplot as plt\n",
      "import ipywidgets as widgets\n"
     ]
    }
   ],
   "source": [
    "import json\n",
    "\n",
    "def find_imports_in_notebook(notebook_path):\n",
    "    with open(notebook_path, 'r') as f:\n",
    "        notebook = json.load(f)\n",
    "\n",
    "    imports = set()\n",
    "\n",
    "    for cell in notebook['cells']:\n",
    "        if cell['cell_type'] == 'code':\n",
    "            for line in cell['source']:\n",
    "                if line.startswith('import') or line.startswith('from'):\n",
    "                    imports.add(line.strip())\n",
    "\n",
    "    return imports\n",
    "\n",
    "notebook_path = '../DataScienceProject/HealthNotebook.ipynb'  # Replace this with the path to your notebook\n",
    "imports = find_imports_in_notebook(notebook_path)\n",
    "print(\"Packages imported:\")\n",
    "for i in imports:\n",
    "    print(i)\n"
   ]
  },
  {
   "cell_type": "code",
   "execution_count": null,
   "metadata": {},
   "outputs": [],
   "source": []
  }
 ],
 "metadata": {
  "kernelspec": {
   "display_name": "Python 3 (ipykernel)",
   "language": "python",
   "name": "python3"
  },
  "language_info": {
   "codemirror_mode": {
    "name": "ipython",
    "version": 3
   },
   "file_extension": ".py",
   "mimetype": "text/x-python",
   "name": "python",
   "nbconvert_exporter": "python",
   "pygments_lexer": "ipython3",
   "version": "3.11.5"
  }
 },
 "nbformat": 4,
 "nbformat_minor": 4
}
