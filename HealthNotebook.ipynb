{
 "cells": [
  {
   "cell_type": "markdown",
   "metadata": {},
   "source": [
    "# HealtNotebook \n",
    "\n"
   ]
  },
  {
   "cell_type": "markdown",
   "metadata": {},
   "source": [
    "Welcome to HeathNotebook! <br> This is a notebook for health data analysis.\n",
    "First we will ask you to enter your name and age and then we will ask more about your current health.\n",
    "Depending on where you are running this notebook, when you run the next cell, you will be prompted to write your name and age."
   ]
  },
  {
   "cell_type": "code",
   "execution_count": 4,
   "metadata": {
    "tags": []
   },
   "outputs": [
    {
     "data": {
      "text/plain": [
       "Index(['id', 'Steps', 'Socialize (min)', 'Leave house', 'People contact',\n",
       "       'Alcohol (bev)', 'Exercise', 'Stress', 'Worry (scale)',\n",
       "       'Worry (finances)', 'Worry (health)', 'PHQ9', 'PANAS (NA)',\n",
       "       'PANAS (PA)', 'Isolation', 'Latency', 'Wakes', 'Sleeptime (h)',\n",
       "       'country', 'age1', 'student'],\n",
       "      dtype='object')"
      ]
     },
     "execution_count": 4,
     "metadata": {},
     "output_type": "execute_result"
    }
   ],
   "source": [
    "import matplotlib.pyplot as plt\n",
    "import ipywidgets as widgets\n",
    "import pandas as pd\n",
    "import numpy as np\n",
    "import seaborn as sns\n",
    "import pickle\n",
    "\n",
    "from IPython.display import display\n",
    "\n",
    "data = pd.read_csv(\"./data/covid_data_preprocessed.csv\")\n",
    "data.columns\n"
   ]
  },
  {
   "cell_type": "code",
   "execution_count": 5,
   "metadata": {},
   "outputs": [
    {
     "data": {
      "application/vnd.jupyter.widget-view+json": {
       "model_id": "0b0de8d1a59747b4888fda5a6174e8d6",
       "version_major": 2,
       "version_minor": 0
      },
      "text/plain": [
       "VBox(children=(Label(value='Name:'), Text(value='', placeholder='Type something')), layout=Layout(align_items=…"
      ]
     },
     "metadata": {},
     "output_type": "display_data"
    },
    {
     "data": {
      "application/vnd.jupyter.widget-view+json": {
       "model_id": "ff455a1642e6410fb8669c22fd9de8b8",
       "version_major": 2,
       "version_minor": 0
      },
      "text/plain": [
       "VBox(children=(Label(value='Age:'), IntText(value=0)), layout=Layout(align_items='stretch'))"
      ]
     },
     "metadata": {},
     "output_type": "display_data"
    },
    {
     "data": {
      "application/vnd.jupyter.widget-view+json": {
       "model_id": "08645b41656b4f4d9da494d498cb4151",
       "version_major": 2,
       "version_minor": 0
      },
      "text/plain": [
       "VBox(children=(Label(value='Hours slept on average:'), FloatText(value=0.0)), layout=Layout(align_items='stret…"
      ]
     },
     "metadata": {},
     "output_type": "display_data"
    },
    {
     "data": {
      "application/vnd.jupyter.widget-view+json": {
       "model_id": "79cda4e74f114310bba82bc07118b7b6",
       "version_major": 2,
       "version_minor": 0
      },
      "text/plain": [
       "VBox(children=(Label(value='Do you feel tired:'), Dropdown(options=('1: Yes, almost always', '2: Yes, often', …"
      ]
     },
     "metadata": {},
     "output_type": "display_data"
    },
    {
     "data": {
      "application/vnd.jupyter.widget-view+json": {
       "model_id": "af93eefd2c144f0b8e376cc882de09ed",
       "version_major": 2,
       "version_minor": 0
      },
      "text/plain": [
       "VBox(children=(Label(value='Stress, on a scale from 1 to 7:'), Dropdown(options=('1', '2', '3', '4', '5', '6',…"
      ]
     },
     "metadata": {},
     "output_type": "display_data"
    },
    {
     "data": {
      "application/vnd.jupyter.widget-view+json": {
       "model_id": "f114f35072844f34a3302c938d49e2cc",
       "version_major": 2,
       "version_minor": 0
      },
      "text/plain": [
       "VBox(children=(Label(value='Is exercise part of your daily life:'), Dropdown(options=('Yes', 'No'), value='Yes…"
      ]
     },
     "metadata": {},
     "output_type": "display_data"
    },
    {
     "data": {
      "application/vnd.jupyter.widget-view+json": {
       "model_id": "f38fa0c6177d41fa8404b2c508bd34b8",
       "version_major": 2,
       "version_minor": 0
      },
      "text/plain": [
       "VBox(children=(Label(value='Daily steps:'), IntText(value=0)), layout=Layout(align_items='stretch'))"
      ]
     },
     "metadata": {},
     "output_type": "display_data"
    },
    {
     "data": {
      "application/vnd.jupyter.widget-view+json": {
       "model_id": "8a4bac8d2aa94d2baa1d8564b7aa0a96",
       "version_major": 2,
       "version_minor": 0
      },
      "text/plain": [
       "VBox(children=(Label(value='Number of alcohol units:'), FloatText(value=0.0)), layout=Layout(align_items='stre…"
      ]
     },
     "metadata": {},
     "output_type": "display_data"
    },
    {
     "data": {
      "application/vnd.jupyter.widget-view+json": {
       "model_id": "57676583b6f346aebccd040322c8d0a0",
       "version_major": 2,
       "version_minor": 0
      },
      "text/plain": [
       "VBox(children=(Label(value='When buying food, do you consider the healthiness of the food:'), Dropdown(options…"
      ]
     },
     "metadata": {},
     "output_type": "display_data"
    },
    {
     "data": {
      "application/vnd.jupyter.widget-view+json": {
       "model_id": "d5a221695ccc430ab0fb726d93037e9d",
       "version_major": 2,
       "version_minor": 0
      },
      "text/plain": [
       "Button(description='Submit', style=ButtonStyle())"
      ]
     },
     "metadata": {},
     "output_type": "display_data"
    }
   ],
   "source": [
    "name_value = \"\"\n",
    "age_value = 0\n",
    "hours_slept_value = 0.0\n",
    "sleep_quality_value = \"\"\n",
    "stress_value = \"\"\n",
    "exercise_value = \"\"\n",
    "daily_steps_value = 0\n",
    "alcohol_consumption_value = 0.0\n",
    "food_value = \"\"\n",
    "\n",
    "\n",
    "\n",
    "def labeled_widget(label, widget):\n",
    "    return widgets.VBox([widgets.Label(label), widget], layout=widgets.Layout(align_items='stretch'))\n",
    "\n",
    "name = widgets.Text(\n",
    "    value='',\n",
    "    placeholder='Type something',\n",
    "    disabled=False)\n",
    "\n",
    "age = widgets.IntText(\n",
    "    value=0, \n",
    "    placeholder='Type something',\n",
    "    disabled=False,\n",
    "    min=0)\n",
    "\n",
    "hours_slept = widgets.FloatText(\n",
    "    value=0.0,\n",
    "    placeholder='Type something',\n",
    "    disabled=False,\n",
    "    min=0.0,)\n",
    "\n",
    "sleep_quality = widgets.Dropdown(\n",
    "    options=[\"1: Yes, almost always\", \"2: Yes, often\", \"3: Rarely, or almost never\"],\n",
    "    value=\"1: Yes, almost always\",\n",
    "    disabled=False)\n",
    "\n",
    "stress = widgets.Dropdown(\n",
    "    options=[\"1\", \"2\", \"3\", \"4\", \"5\", \"6\", \"7\"],\n",
    "    value = \"1\",\n",
    "    placeholder='1',\n",
    "    disabled=False)\n",
    "\n",
    "exercise = widgets.Dropdown(\n",
    "    options=[\"Yes\", \"No\"],\n",
    "    value=\"Yes\",\n",
    "    disabled=False)\n",
    "\n",
    "daily_steps = widgets.IntText(\n",
    "    value=0, \n",
    "    placeholder=0,\n",
    "    disabled=False,\n",
    "    min=0)\n",
    "\n",
    "alcohol_consumption = widgets.FloatText(\n",
    "    value=0.0,\n",
    "    placeholder=0.0,\n",
    "    disabled=False,\n",
    "    min=0.0,)\n",
    "\n",
    "food = widgets.Dropdown(\n",
    "    options=[\"1: Never\" , \"2: Yes, sometimes\", \"3: Often\"],\n",
    "    value=\"1: Never\",\n",
    "    disabled=False)\n",
    "\n",
    "\n",
    "button = widgets.Button(description=\"Submit\")\n",
    "\n",
    "# Define a function to handle button click event\n",
    "def on_button_click(b):\n",
    "    global name_value, age_value, hours_slept_value, sleep_quality_value, \\\n",
    "    stress_value, exercise_value, daily_steps_value, alcohol_consumption_value, food_value\n",
    "\n",
    "    name_value = name.value\n",
    "    age_value = age.value\n",
    "    hours_slept_value = hours_slept.value\n",
    "    sleep_quality_value = int(sleep_quality.value.split(\":\")[0])\n",
    "    stress_value = int(stress.value)\n",
    "    exercise_value = 1 if exercise.value == \"Yes\" else 0\n",
    "    daily_steps_value = daily_steps.value\n",
    "    alcohol_consumption_value = int(alcohol_consumption.value)\n",
    "    food_value = int(food.value.split(\":\")[0])\n",
    "\n",
    "\n",
    "# Set the function to be called on button click\n",
    "button.on_click(on_button_click)\n",
    "\n",
    "# Create labeled widgets\n",
    "name_labeled = labeled_widget('Name:', name)\n",
    "age_labeled = labeled_widget('Age:', age)\n",
    "hours_slept_labeled = labeled_widget('Hours slept on average:', hours_slept)\n",
    "sleep_quality_labeled = labeled_widget('Do you feel tired:', sleep_quality)\n",
    "stress_labeled = labeled_widget('Stress, on a scale from 1 to 7:', stress)  # Changed this line\n",
    "exercise_labeled = labeled_widget('Is exercise part of your daily life:', exercise)  # Changed this line\n",
    "daily_steps_labeled = labeled_widget('Daily steps:', daily_steps)  # Changed this line\n",
    "alcohol_consumption_labeled = labeled_widget('Number of alcohol units:', alcohol_consumption)  # Changed this line\n",
    "food_labeled = labeled_widget('When buying food, do you consider the healthiness of the food:', food)  # Changed this line\n",
    "\n",
    "\n",
    "display(name_labeled, age_labeled, hours_slept_labeled, sleep_quality_labeled,\n",
    "        stress_labeled, exercise_labeled, daily_steps_labeled,\n",
    "        alcohol_consumption_labeled, food_labeled, button)\n"
   ]
  },
  {
   "cell_type": "code",
   "execution_count": 6,
   "metadata": {},
   "outputs": [],
   "source": [
    "# for testing set the values to the parameters from the form\n",
    "name_value = \"Test\"\n",
    "age_value = 20\n",
    "hours_slept_value = 8.0\n",
    "sleep_quality_value = 1\n",
    "stress_value = 1\n",
    "exercise_value = 1\n",
    "daily_steps_value = 10000\n",
    "alcohol_consumption_value = 0\n",
    "food_value = 1\n"
   ]
  },
  {
   "cell_type": "markdown",
   "metadata": {},
   "source": [
    "Helpful info: <br>\n",
    "One alcohol unit is around 12g of pure alcohol. <br>\n"
   ]
  },
  {
   "cell_type": "code",
   "execution_count": 7,
   "metadata": {},
   "outputs": [
    {
     "data": {
      "image/png": "[encoded data removed]",
      "text/plain": [
       "<Figure size 1000x600 with 1 Axes>"
      ]
     },
     "metadata": {},
     "output_type": "display_data"
    },
    {
     "name": "stdout",
     "output_type": "stream",
     "text": [
      "You sleep more than the average person. \n",
      " The difference is 0.23 hours.\n"
     ]
    }
   ],
   "source": [
    "user_sleep_hours = hours_slept_value\n",
    "\n",
    "\n",
    "# Create the plot\n",
    "plt.figure(figsize=(10, 6))\n",
    "\n",
    "x_values = np.ones(len(data['Sleeptime (h)']))\n",
    "plt.scatter(x_values, data['Sleeptime (h)'], color='blue', marker='o', s=100, alpha=0.5, label='COVID Data')\n",
    "\n",
    "plt.scatter([1], [user_sleep_hours], color='red', marker='o', s=100, label=name_value)\n",
    "\n",
    "# print average sleep hours as dotted line\n",
    "plt.axhline(y=data['Sleeptime (h)'].mean(), color='black', linestyle='--', label='Average Sleep Hours')\n",
    "\n",
    "plt.xlabel('Entity')\n",
    "plt.ylabel('Sleep Hours')\n",
    "plt.title('User Sleep Hours vs COVID Data')\n",
    "plt.legend()\n",
    "\n",
    "plt.show()\n",
    "\n",
    "if user_sleep_hours < data['Sleeptime (h)'].mean():\n",
    "    print(\"\"\"You sleep less than the average person. Try to sleep more. \\n\n",
    "          The difference is {data['Sleeptime (h)'].mean() - user_sleep_hours} hours.\"\"\")\n",
    "elif user_sleep_hours == data['Sleeptime (h)'].mean():\n",
    "    print(\"You sleep the same amount as the average person. Good job!\")\n",
    "else:\n",
    "    print(f\"You sleep more than the average person. \\n The difference is {round(user_sleep_hours - data['Sleeptime (h)'].mean(), 2)} hours.\")"
   ]
  },
  {
   "cell_type": "code",
   "execution_count": 8,
   "metadata": {},
   "outputs": [
    {
     "data": {
      "text/plain": [
       "<matplotlib.legend.Legend at 0x7f53ba382260>"
      ]
     },
     "execution_count": 8,
     "metadata": {},
     "output_type": "execute_result"
    },
    {
     "data": {
      "image/png": "[encoded data removed]",
      "text/plain": [
       "<Figure size 1000x600 with 1 Axes>"
      ]
     },
     "metadata": {},
     "output_type": "display_data"
    }
   ],
   "source": [
    "# plot the user's sleep quality vs the average sleep quality of the COVID data\n",
    "\n",
    "user_sleep_quality = sleep_quality_value\n",
    "\n",
    "plt.figure(figsize=(10, 6))\n",
    "\n",
    "#x_values = np.ones(len(data['sleep quality']))\n",
    "\n",
    "#create sleep quality sample data with values 1, 2, 3\n",
    "x_values = np.ones(3)\n",
    "x_values[0] = 1\n",
    "x_values[1] = 2\n",
    "x_values[2] = 3\n",
    "\n",
    "\n",
    "#plt.scatter(x_values, data['sleep quality'], color='blue', marker='o', s=100, alpha=0.5, label='Data')\n",
    "\n",
    "plt.scatter([1], [user_sleep_quality], color='red', marker='o', s=100, label=name_value)\n",
    "\n",
    "#plt.axhline(y=data['sleep quality'].mean(), color='black', linestyle='--', label='Average Sleep Quality')\n",
    "\n",
    "# Add labels and title\n",
    "plt.xlabel('Entity')\n",
    "plt.ylabel('Sleep Quality')\n",
    "plt.title('User Sleep Quality vs COVID Data')\n",
    "plt.legend()\n",
    "\n",
    "\n"
   ]
  },
  {
   "cell_type": "markdown",
   "metadata": {},
   "source": [
    "Load pre-trained models with Pickle and make predictions based on input by the user."
   ]
  },
  {
   "cell_type": "code",
   "execution_count": 9,
   "metadata": {},
   "outputs": [
    {
     "name": "stdout",
     "output_type": "stream",
     "text": [
      "Predicted sleeptime 7.71 (h) and predicted latency 20.94 (min).\n",
      "By moderately decresing your stress level and adding exericse to your routine you can change your sleep:\n",
      "Increase sleep time by 7.9 minutes.\n",
      "Decrease sleep latency by 13.1 minutes.\n"
     ]
    },
    {
     "name": "stderr",
     "output_type": "stream",
     "text": [
      "/home/tlinnala/anaconda3/lib/python3.10/site-packages/sklearn/base.py:420: UserWarning: X does not have valid feature names, but LinearRegression was fitted with feature names\n",
      "  warnings.warn(\n",
      "/home/tlinnala/anaconda3/lib/python3.10/site-packages/sklearn/base.py:420: UserWarning: X does not have valid feature names, but LinearRegression was fitted with feature names\n",
      "  warnings.warn(\n",
      "/home/tlinnala/anaconda3/lib/python3.10/site-packages/sklearn/base.py:420: UserWarning: X does not have valid feature names, but LinearRegression was fitted with feature names\n",
      "  warnings.warn(\n",
      "/home/tlinnala/anaconda3/lib/python3.10/site-packages/sklearn/base.py:420: UserWarning: X does not have valid feature names, but LinearRegression was fitted with feature names\n",
      "  warnings.warn(\n"
     ]
    }
   ],
   "source": [
    "with open('./data/models/model_sleeptime.pkl', 'rb') as f:\n",
    "    model_sleeptime = pickle.load(f)\n",
    "\n",
    "with open('./data/models/model_latency.pkl', 'rb') as f:\n",
    "    model_latency = pickle.load(f)\n",
    "\n",
    "# This model takes as inputs the step count, stress level and exercise\n",
    "# These values would be given by the user\n",
    "steps = 7000\n",
    "stress_level = 3\n",
    "exercise = 0\n",
    "\n",
    "# Predict sleep time and latecy for the user\n",
    "x = np.array([steps, stress_level, exercise])\n",
    "pred_sleep = model_sleeptime.predict(x.reshape(-1 ,3))\n",
    "pred_latency = model_latency.predict(x.reshape(-1, 3))\n",
    "print(\"Predicted sleeptime\", round(pred_sleep[0], 2), \"(h) and predicted latency\", round(pred_latency[0], 2), \"(min).\")\n",
    "\n",
    "# Make another prediction with decreased stress and added exercise\n",
    "# (higher stress level actually means lower stress)\n",
    "x = np.array([steps, stress_level + 2, 1])\n",
    "pred_sleep_alt = model_sleeptime.predict(x.reshape(-1 ,3))\n",
    "pred_latency_alt = model_latency.predict(x.reshape(-1, 3))\n",
    "diff_sleep = (pred_sleep_alt[0] - pred_sleep[0]) * 60\n",
    "diff_latency = pred_latency[0] - pred_sleep_alt[0]\n",
    "print(\"By moderately decresing your stress level and adding exericse to your routine you can change your sleep:\")\n",
    "print(\"Increase sleep time by\", round(diff_sleep, 1), \"minutes.\")\n",
    "print(\"Decrease sleep latency by\", round(diff_latency, 1), \"minutes.\")"
   ]
  }
 ],
 "metadata": {
  "kernelspec": {
   "display_name": "Python 3 (ipykernel)",
   "language": "python",
   "name": "python3"
  },
  "language_info": {
   "codemirror_mode": {
    "name": "ipython",
    "version": 3
   },
   "file_extension": ".py",
   "mimetype": "text/x-python",
   "name": "python",
   "nbconvert_exporter": "python",
   "pygments_lexer": "ipython3",
   "version": "3.10.9"
  }
 },
 "nbformat": 4,
 "nbformat_minor": 4
}
