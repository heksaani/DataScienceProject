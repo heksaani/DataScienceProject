{
 "cells": [
  {
   "cell_type": "markdown",
   "metadata": {},
   "source": [
    "# HealthNotebook \n",
    "\n"
   ]
  },
  {
   "cell_type": "markdown",
   "metadata": {},
   "source": [
    "Welcome to HealthNotebook!\n",
    "\n",
    "This is a notebook for health data analysis."
   ]
  },
  {
   "cell_type": "code",
   "execution_count": null,
   "metadata": {
    "tags": []
   },
   "outputs": [],
   "source": [
    "# Import modules\n",
    "import modules.data_module as data_module\n",
    "import numpy as np\n",
    "import pickle\n",
    "import warnings\n",
    "# Supress warnings\n",
    "def warn(*args, **kwargs):\n",
    "    pass\n",
    "warnings.warn = warn"
   ]
  },
  {
   "cell_type": "markdown",
   "metadata": {},
   "source": [
    "First, we would ask you to fill this short survey. Run the cell below to see the survey. Once you are done, click 'Submit' to save your answers."
   ]
  },
  {
   "cell_type": "code",
   "execution_count": null,
   "metadata": {},
   "outputs": [],
   "source": [
    "import modules.questionnaire_module"
   ]
  },
  {
   "cell_type": "code",
   "execution_count": null,
   "metadata": {},
   "outputs": [],
   "source": [
    "# Get user data from the survey\n",
    "user_data = modules.questionnaire_module.get_data()\n",
    "# Load data\n",
    "df = data_module.get_data()"
   ]
  },
  {
   "cell_type": "markdown",
   "metadata": {},
   "source": [
    "Next we will compare your answers to your peers. In the plots below, you can see how your answers compare to our data."
   ]
  },
  {
   "cell_type": "code",
   "execution_count": null,
   "metadata": {},
   "outputs": [],
   "source": [
    "# Plot sleep time\n",
    "data_module.plot(dataset = df,\n",
    "                 userdata= user_data,\n",
    "                 plotted_variables = ['Sleeptime (h)'])  "
   ]
  },
  {
   "cell_type": "code",
   "execution_count": null,
   "metadata": {},
   "outputs": [],
   "source": [
    "# Plot sleep latency as a function of stress\n",
    "data_module.plot(dataset = df,\n",
    "                 userdata= user_data,\n",
    "                 plotted_variables = ['Stress', 'Latency']) "
   ]
  },
  {
   "cell_type": "code",
   "execution_count": null,
   "metadata": {},
   "outputs": [],
   "source": [
    "# Plot sleep latency as a function of steps\n",
    "data_module.plot(dataset = df,\n",
    "                 userdata= user_data,\n",
    "                 plotted_variables = ['Steps', 'Latency'])"
   ]
  },
  {
   "cell_type": "code",
   "execution_count": null,
   "metadata": {},
   "outputs": [],
   "source": [
    "# Plot sleep time as a function of stress\n",
    "data_module.plot(dataset = df,\n",
    "                 userdata= user_data,\n",
    "                 plotted_variables = ['Stress', 'Sleeptime (h)'])"
   ]
  },
  {
   "cell_type": "code",
   "execution_count": null,
   "metadata": {},
   "outputs": [],
   "source": [
    "# Plot restfulness as a function of food healthiness\n",
    "data_module.plot(dataset = df,\n",
    "                 userdata= user_data,\n",
    "                 plotted_variables = ['Food Healthiness', 'Restfulness'])"
   ]
  },
  {
   "cell_type": "markdown",
   "metadata": {},
   "source": [
    "Below we will predict your sleep time and sleep latency based on your answers to the survey. By sleep latency we mean the time it takes to fall asleep after going to bed. We will also tell you how much you can improve your sleep by increasing your daily step count and reducing your level of stress."
   ]
  },
  {
   "cell_type": "code",
   "execution_count": null,
   "metadata": {},
   "outputs": [],
   "source": [
    "with open('./data/models/covid_model_sleeptime.pkl', 'rb') as f:\n",
    "    model_sleeptime = pickle.load(f)\n",
    "\n",
    "with open('./data/models/covid_model_latency.pkl', 'rb') as f:\n",
    "    model_latency = pickle.load(f)\n",
    "\n",
    "with open(\"./data/models/uhs_model_rest.pkl\", \"rb\") as f:\n",
    "    model_rest = pickle.load(f)\n",
    "\n",
    "# Predict sleep time and latecy for the user\n",
    "x = np.array([user_data[\"Steps\"], user_data[\"Stress\"]])\n",
    "pred_sleep = model_sleeptime.predict(x.reshape(-1, 2))\n",
    "pred_latency = model_latency.predict(x.reshape(-1, 2))\n",
    "print(\"Predicted sleeptime\", round(pred_sleep[0], 2), \"(h) and predicted latency\", round(pred_latency[0], 2), \"(min).\")\n",
    "\n",
    "# Make another prediction with decreased stress and added exercise\n",
    "# (higher stress level actually means lower stress)\n",
    "x = np.array([user_data[\"Steps\"] + 2000, user_data[\"Stress\"] + 7])\n",
    "pred_sleep_alt = model_sleeptime.predict(x.reshape(-1, 2))\n",
    "pred_latency_alt = model_latency.predict(x.reshape(-1, 2))\n",
    "diff_sleep = (pred_sleep_alt[0] - pred_sleep[0]) * 60\n",
    "diff_latency = pred_latency_alt[0] - pred_latency[0]\n",
    "print(\"By moderately decresing your stress level and adding steps to your day you can achieve the following changes.\")\n",
    "print(\"Change in your sleep time:\", round(diff_sleep, 1), \"minutes.\")\n",
    "print(\"Change in your sleep latency:\", round(diff_latency, 1), \"minutes.\")"
   ]
  },
  {
   "cell_type": "markdown",
   "metadata": {},
   "source": [
    "Finally, we will predict how much you can improve the restfulness of your sleep by improving your diet."
   ]
  },
  {
   "cell_type": "code",
   "execution_count": null,
   "metadata": {},
   "outputs": [],
   "source": [
    "pred_rest = model_rest.predict(np.array([user_data[\"Food Healthiness\"]]).reshape(-1, 1))\n",
    "\n",
    "if user_data[\"Food Healthiness\"] == 2:\n",
    "    text = \"Congratulations! You have healthy food habits.\"\n",
    "elif user_data[\"Food Healthiness\"] == 1:\n",
    "    pred_rest_alt = model_rest.predict(np.array([user_data[\"Food Healthiness\"] + 1]).reshape(-1, 1))\n",
    "    change = 100 * (pred_rest_alt - pred_rest) / pred_rest\n",
    "    change = round(change[0][0], 2)\n",
    "    text = f\"You can improve the restfulness of your sleep {change} % by improving your diet.\"\n",
    "else:\n",
    "    pred_rest_alt = model_rest.predict(np.array([user_data[\"Food Healthiness\"] + 2]).reshape(-1, 1))\n",
    "    change = 100 * (pred_rest_alt - pred_rest) / pred_rest\n",
    "    change = round(change[0][0], 2)\n",
    "    text = f\"You can improve the restfulness of your sleep {change} % by improving your diet.\"\n",
    "\n",
    "print(text)"
   ]
  }
 ],
 "metadata": {
  "kernelspec": {
   "display_name": "Python 3 (ipykernel)",
   "language": "python",
   "name": "python3"
  },
  "language_info": {
   "codemirror_mode": {
    "name": "ipython",
    "version": 3
   },
   "file_extension": ".py",
   "mimetype": "text/x-python",
   "name": "python",
   "nbconvert_exporter": "python",
   "pygments_lexer": "ipython3",
   "version": "3.10.9"
  }
 },
 "nbformat": 4,
 "nbformat_minor": 4
}
